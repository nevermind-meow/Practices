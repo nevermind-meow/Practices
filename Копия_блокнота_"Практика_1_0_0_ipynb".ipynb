{
  "nbformat": 4,
  "nbformat_minor": 0,
  "metadata": {
    "colab": {
      "provenance": [],
      "include_colab_link": true
    },
    "kernelspec": {
      "name": "python3",
      "display_name": "Python 3"
    },
    "language_info": {
      "name": "python"
    }
  },
  "cells": [
    {
      "cell_type": "markdown",
      "metadata": {
        "id": "view-in-github",
        "colab_type": "text"
      },
      "source": [
        "<a href=\"https://colab.research.google.com/github/nevermind-meow/Practices/blob/main/%D0%9A%D0%BE%D0%BF%D0%B8%D1%8F_%D0%B1%D0%BB%D0%BE%D0%BA%D0%BD%D0%BE%D1%82%D0%B0_%22%D0%9F%D1%80%D0%B0%D0%BA%D1%82%D0%B8%D0%BA%D0%B0_1_0_0_ipynb%22.ipynb\" target=\"_parent\"><img src=\"https://colab.research.google.com/assets/colab-badge.svg\" alt=\"Open In Colab\"/></a>"
      ]
    },
    {
      "cell_type": "markdown",
      "source": [
        "ФИО:"
      ],
      "metadata": {
        "id": "fLDS5f_mCnPa"
      }
    },
    {
      "cell_type": "code",
      "source": [
        "Шмелёв Александр Олегович"
      ],
      "metadata": {
        "id": "aRPeYxNjjIfn"
      },
      "execution_count": null,
      "outputs": []
    },
    {
      "cell_type": "markdown",
      "source": [
        "# Задание (совместное с преподавателем)\n",
        "\n",
        "\n"
      ],
      "metadata": {
        "id": "-CSHUbWzCqeM"
      }
    },
    {
      "cell_type": "markdown",
      "source": [
        "Напишите систему для учёта отпусков с возможностью узнавать, сколько дней отпуска осталось у того или иного сотрудника.\n",
        "Для этого создайте класс Employee со следующими методами:\n",
        "\n",
        "- Метод consume_vacation должен отвечать за списание дней отпуска.\n",
        "\n",
        "Единственный параметр этого метода (кроме self) — количество потраченных отпускных дней (целое число).\n",
        "\n",
        "При вызове метода consume_vacation соответствующее количество дней должно вычитаться из общего числа доступных отпускных дней сотрудника.\n",
        "\n",
        "Чтобы определить число доступных отпускных дней конкретного сотрудника, в классе опишите атрибут экземпляра |, который по умолчанию будет равен значению атрибута класса vacation_days, и используйте этот атрибут в работе метода.\n",
        "\n",
        "- Метод get_vacation_details должен возвращать остаток отпускных дней сотрудника в формате: ```Остаток отпускных дней: <число>.```\n",
        "\n",
        "\n",
        "Чтобы проверить работу программы:\n",
        "1. Создайте экземпляр класса Employee.\n",
        "2. Вызовите метод consume_vacation, указав подходящее значение аргумента, например 7.\n",
        "3. Вызовите метод get_vacation_details."
      ],
      "metadata": {
        "id": "a_flBjZOCwYz"
      }
    },
    {
      "cell_type": "code",
      "source": [
        "class Employee:\n",
        "    vacation_days = 28\n",
        "\n",
        "    def __init__(self, first_name, second_name, gender):  # конструктор класса\n",
        "        self.fist_name = first_name\n",
        "        self.second_name = second_name\n",
        "        self.gender = gender\n",
        "        self.remaining_vacation_days = self.vacation_days\n",
        "    # 1 пустая строка\n",
        "    def consume_vacation(self, days):  # метод для вычитания отгулянных дней\n",
        "        self.remaining_vacation_days -= days\n",
        "\n",
        "    def get_vacation_details(self):\n",
        "        return f'Остаток отпускных дней: {self.remaining_vacation_days}.'\n",
        "\n",
        "\n",
        "employee1 = Employee(\"Иван\", 'Иванов', 'м')\n",
        "employee2 = Employee(\"Анна\", 'Иванова', 'ж')\n",
        "\n",
        "print(employee1.fist_name,employee1.get_vacation_details())\n",
        "print(employee1.fist_name, 'уехал в отпуск на 7 дней')\n",
        "\n",
        "employee1.consume_vacation(7)\n",
        "\n",
        "print(employee1.get_vacation_details())\n",
        "\n",
        "print(employee2.fist_name, employee2.get_vacation_details())\n",
        "print(employee2.fist_name, 'уехал в отпуск на 10 дней')\n",
        "\n",
        "employee2.consume_vacation(10)\n",
        "\n",
        "print(employee2.get_vacation_details())"
      ],
      "metadata": {
        "id": "2TyRY9a1XCOu",
        "colab": {
          "base_uri": "https://localhost:8080/"
        },
        "outputId": "2dae3c49-5b73-4fda-c32c-a5bea0b5165d"
      },
      "execution_count": null,
      "outputs": [
        {
          "output_type": "stream",
          "name": "stdout",
          "text": [
            "Иван Остаток отпускных дней: 28.\n",
            "Иван уехал в отпуск на 7 дней\n",
            "Остаток отпускных дней: 21.\n",
            "Анна Остаток отпускных дней: 28.\n",
            "Анна уехал в отпуск на 10 дней\n",
            "Остаток отпускных дней: 18.\n"
          ]
        }
      ]
    },
    {
      "cell_type": "markdown",
      "source": [
        "# Задание 1"
      ],
      "metadata": {
        "id": "C0Z_wXo9XIr2"
      }
    },
    {
      "cell_type": "markdown",
      "source": [
        "Задание:\n",
        "\n",
        "Создайте класс с именем Rectangle который имеет:\n",
        "- Атрибуты ширины и высоты.\n",
        "- Метод расчета площади.\n",
        "- Метод расчета периметра.\n",
        "- Метод отображения размеров прямоугольника.\n",
        "\n",
        "Создайте экземпляр класса Rectangleи продемонстрируйте его функциональность."
      ],
      "metadata": {
        "id": "jQ4qqd8nEZBY"
      }
    },
    {
      "cell_type": "code",
      "source": [
        "class Rectangle:\n",
        "    area = 0\n",
        "    perimeter = 0\n",
        "\n",
        "    def __init__(self, width, length):\n",
        "        self.width = width\n",
        "        self.length = length\n",
        "\n",
        "    def RectangleArea(self):\n",
        "        self.area = self.width * self.length\n",
        "        return f'Площадь заданного прямоугольника равна: {self.area}'\n",
        "\n",
        "    def RectanglePerimeter(self):\n",
        "        self.perimeter = 2*(self.width+self.length)\n",
        "        return f'Периметр заданного прямоугольника равен: {self.perimeter}'\n",
        "\n",
        "    def RectangleSize(self):\n",
        "        return (f'Ширина прямоугольника: {self.width} \\n'\n",
        "                f'Высота прямоугольника: {self.length}')\n",
        "\n",
        "\n",
        "user_width = int(input('Введите ширину прямоугольника: '))\n",
        "user_length = int(input('Введите высоту прямоугольника: '))\n",
        "user_rectangle = Rectangle(user_width, user_length)\n",
        "\n",
        "print(user_rectangle.RectangleSize())\n",
        "print(user_rectangle.RectangleArea())\n",
        "print(user_rectangle.RectanglePerimeter())"
      ],
      "metadata": {
        "id": "dG6uNPqTEAvt",
        "colab": {
          "base_uri": "https://localhost:8080/"
        },
        "outputId": "ecf05c39-c518-4a69-a53d-1c672ea7b8e8"
      },
      "execution_count": null,
      "outputs": [
        {
          "output_type": "stream",
          "name": "stdout",
          "text": [
            "Введите ширину прямоугольника: 5\n",
            "Введите высоту прямоугольника: 12\n",
            "Ширина прямоугольника: 5 \n",
            "Высота прямоугольника: 12\n",
            "Площадь заданного прямоугольника равна: 60\n",
            "Периметр заданного прямоугольника равен: 34\n"
          ]
        }
      ]
    },
    {
      "cell_type": "markdown",
      "source": [
        "# Задание 2"
      ],
      "metadata": {
        "id": "0ct1u6lqE73j"
      }
    },
    {
      "cell_type": "markdown",
      "source": [
        "Задание: Создайте мини версию банковской системы:\n",
        "\n",
        "\n",
        "Инструкции:\n",
        "\n",
        "1. Создайте класс BankAccountсо следующими атрибутами:\n",
        "    - account_holder -  владелец счета\n",
        "    - balance - баланс счета\n",
        "\n",
        "2. Реализуйте следующие методы:\n",
        "    - Метод для инициализации владельца счета: имя владельца счета и установите начальный баланс на 0.\n",
        "    - deposit(amount): Добавьте указанную сумму к балансу.\n",
        "    - withdraw(amount): Вычесть указанную сумму из баланса, если средств достаточно; в противном случае вывести предупреждение.\n",
        "    - get_balance(): Возврат текущего баланса.\n",
        "\n",
        "\n",
        "Создайте объект класса и продемонстрируйте его возможности"
      ],
      "metadata": {
        "id": "FOpIpcLxE-WK"
      }
    },
    {
      "cell_type": "code",
      "source": [
        "class BankAccount:\n",
        "    account_holder = ''\n",
        "    balance = 0\n",
        "\n",
        "    def __init__(self, account_holder, balance):\n",
        "        self.account_holder = account_holder\n",
        "        self.balance = balance\n",
        "\n",
        "    def deposit(self,amount):\n",
        "        self.balance += amount\n",
        "        return f'Счёт пользователя {self.account_holder} пополнен на {amount}.'\n",
        "\n",
        "    def withdraw(self,amount):\n",
        "        if self.balance >= amount:\n",
        "            self.balance -= amount\n",
        "            return f'С счёта пользователя {self.account_holder} было снято {amount}.'\n",
        "        else:\n",
        "            return f'Невозможно снять из-за недостатка средств на счёту - пополните счёт для выполнения операции.'\n",
        "\n",
        "    def get_balance(self):\n",
        "        return f'Текущий баланс: {self.balance}.'\n",
        "\n",
        "\n",
        "user_acc_holder = input('Введите владельца аккаунта:')\n",
        "user_balance = int(input('Введите количество средств на счету: '))\n",
        "user_acc = BankAccount(user_acc_holder, user_balance)\n",
        "print(f'Информация о счёте. \\n'\n",
        "      f'Владелец: {user_acc.account_holder}\\n'\n",
        "      f'Баланс: {user_acc.get_balance()}')\n",
        "\n",
        "user_deposit = int(input('Введите количество средств, на которое хотите пополнить счёт:'))\n",
        "print(user_acc.deposit(user_deposit), user_acc.get_balance())\n",
        "\n",
        "user_withdraw = int(input('Введите количество средств, которое хотите снять с счёта:'))\n",
        "print(user_acc.withdraw(user_withdraw), user_acc.get_balance())\n",
        "\n",
        "print(user_acc.get_balance())"
      ],
      "metadata": {
        "id": "WWXNIUrCE99W",
        "colab": {
          "base_uri": "https://localhost:8080/"
        },
        "outputId": "28d512f1-90e6-4604-998a-e763594f8af0"
      },
      "execution_count": null,
      "outputs": [
        {
          "output_type": "stream",
          "name": "stdout",
          "text": [
            "Введите владельца аккаунта:Alexander\n",
            "Введите количество средств на счету: 1000\n",
            "Информация о счёте. \n",
            "Владелец: Alexander\n",
            "Баланс: Текущий баланс: 1000.\n",
            "Введите количество средств, на которое хотите пополнить счёт:2000\n",
            "Счёт пользователя Alexander пополнен на 2000. Текущий баланс: 3000.\n",
            "Введите количество средств, которое хотите снять с счёта:2900\n",
            "С счёта пользователя Alexander было снято 2900. Текущий баланс: 100.\n",
            "Текущий баланс: 100.\n"
          ]
        }
      ]
    },
    {
      "cell_type": "markdown",
      "source": [
        "# Задание 3"
      ],
      "metadata": {
        "id": "C5DX5Uf2FfP6"
      }
    },
    {
      "cell_type": "markdown",
      "source": [
        "Возьмите код и задание (Рыцарь и дракон) из предыдущей практики и реализуйте его с применением классов"
      ],
      "metadata": {
        "id": "0cR-MYepFgz6"
      }
    },
    {
      "cell_type": "code",
      "source": [
        "from random import randint\n",
        "\n",
        "\n",
        "class Knight:\n",
        "    weight = 100\n",
        "\n",
        "    def __init__(self, name, sword, damage, armor, health, weight):\n",
        "        self.name = name\n",
        "        self.sword = sword\n",
        "        self.damage = damage\n",
        "        self.armor = armor\n",
        "        self.health = health\n",
        "        self.weight = weight\n",
        "\n",
        "    def equipment(self, armors, swords):\n",
        "        knight_armor = input(\n",
        "            f'Выберите ваши доспехи, учитывая, что допустимый уровень снаряжение(урон меча+очки брони) = {self.weight}:\\n'\n",
        "            f'1) Пластинчатая (70 очков брони)\\n'\n",
        "            f'2) Кольчуга (50 очков брони)\\n'\n",
        "            f'3) Кожаная (30 очка брони)\\n'\n",
        "            f'Ваш выбор: ')\n",
        "        if knight_armor == '1':\n",
        "            knight_armor = 'Пластинчатая'\n",
        "        if knight_armor == '2':\n",
        "            knight_armor = 'Кольчуга'\n",
        "        if knight_armor == '3':\n",
        "            armor = 'Кожаная'\n",
        "        knight_sword = input(\n",
        "            f'Выберите ваш меч, учитывая, что допустимый вес оставшийся уровень снаряжение(урон меча+очки брони) = '\n",
        "            f'{self.weight - armors[knight_armor]}:\\n'\n",
        "            f'1) Кортик (max 30 очков урона)\\n'\n",
        "            f'2) Эспада (max 50 очков урона)\\n'\n",
        "            f'3) Двуручный меч(max 70 очков урона\\n'\n",
        "            f'Ваш выбор: ')\n",
        "        if knight_sword == '1':\n",
        "            knight_sword = 'Кортик'\n",
        "        if knight_sword == '2':\n",
        "            knight_sword = 'Эспада'\n",
        "        if knight_sword == '3':\n",
        "            knight_sword = 'Двуручный меч'\n",
        "        self.weight = self.weight - armors[knight_armor] - swords[knight_sword]\n",
        "        if self.weight < 0:\n",
        "            print('Вы превысили допустимый уровень снаряжения. Попробуйте снова.')\n",
        "            exit()\n",
        "        damage = swords[knight_sword]\n",
        "        health = 100 + armors[knight_armor]\n",
        "        characteristic = {'attack': damage, 'health': health}\n",
        "        return characteristic\n",
        "\n",
        "\n",
        "class Dragon:\n",
        "    def __init__(self, name, attack, health):\n",
        "        self.name = name\n",
        "        self.attack = attack\n",
        "        self.health = health\n",
        "\n",
        "    def choose_dragon(self):\n",
        "        self.attack = 0\n",
        "        self.health = 0\n",
        "        characteristic = input(\n",
        "            f'Выберите характеристики для своего дракона:\\n'\n",
        "            f'1) Здоровье: 300, Урон: 20\\n'\n",
        "            f'2) Здоровье: 250, Урон: 30\\n'\n",
        "            f'3) Здоровье: 220, Урон: 40\\n'\n",
        "        )\n",
        "        if characteristic == '1':\n",
        "            self.health = 300\n",
        "            self.attack = 20\n",
        "        if characteristic == '2':\n",
        "            self.health = 230\n",
        "            self.attack = 35\n",
        "        if characteristic == '3':\n",
        "            self.health = 200\n",
        "            self.attack = 45\n",
        "        info = {'attack': self.attack, 'health': self.health}\n",
        "        return info\n",
        "\n",
        "    def story(self, name_knight, name_drago):\n",
        "        lost_armor_knight = 0\n",
        "        print(f'Давным-давно рыцарь по имени {name_knight} отправился спасать из заточения своих товарищей. \\n'\n",
        "              f'Они находились под стражей в башне, которую охранял зловещий дракон {name_drago}.\\n'\n",
        "              f'Нашему герою оставалось снарядиться и направиться на спасение.\\n'\n",
        "              f'Однако на пути встречались многие неприятности, с которым наш герой справлялся с переменным успехом.\\n'\n",
        "              f'____________________________________________________________')\n",
        "        challenge1 = int(input(f'Первым на пути встретилось вязкое болото, {name_knight} нашёл 3 способа его пройти. \\n'\n",
        "                               f'Выберите число от 1 до 3, чтоб выбрать путь, по которому пойдет {name_knight}.\\n'\n",
        "                               f'Ваш выбор: '))\n",
        "        step1 = randint(1, 3)\n",
        "        if step1 == challenge1:\n",
        "            print('Рыцарю повезло! Он выбрал наиболее удачный путь.\\n'\n",
        "                  '____________________________________________________________')\n",
        "        else:\n",
        "            print(f'К сожалению, рыцарь оступился и начал вязнуть в болоте. Его спасла торчащая ветка из прогнившего '\n",
        "                  f'дерева.\\n'\n",
        "                  'Рыцарь смог выбраться из болота и пойти дальше, но немного повредил свои лодыжку, '\n",
        "                  'когда начал падать, и стал хромать.\\n'\n",
        "                  f'{name_knight} Потерял 10 очков здоровья.\\n'\n",
        "                  f'____________________________________________________________')\n",
        "            lost_armor_knight += 10\n",
        "        challenge2 = int(input(f'Пройдя болото, через время рыцарь встретил на своём пути реку с быстрым течением.\\n'\n",
        "                               f'Возник вопрос: как же его обойти? Рыцарю на ум сразу же пришло - уронить один из стволов'\n",
        "                               f'деревьев между берегами.\\n'\n",
        "                               f'Однако это было очень рискованно, но нужно было быстрее добраться.\\n'\n",
        "                               f'Выберите число от 1 до 3, чтобы определить какое дерево уронить.\\n'\n",
        "                               f'Ваш выбор: '))\n",
        "        step2 = randint(1, 3)\n",
        "        if step2 == challenge2:\n",
        "            print('Рыцарь успешно повалил дерево и перешёл на другой берег, несмотря на то, что ему казалось: '\n",
        "                  f'оно развалится или его смоет, пока он идёт по нему. \\n'\n",
        "                  f'Пронесло. {name_knight} идёт дальше\\n'\n",
        "                  f'____________________________________________________________')\n",
        "        else:\n",
        "            print(f'Пока рыцарь шёл по стволу дерева - оно начало немного двигаться под действием мощного течения. \\n'\n",
        "                  f'{name_knight} почуял что-то неладное и ускорился. Но его скорости не хватило и дерево с ним смыло течением.\\n'\n",
        "                  f'Герою повезло, что он успел захватиться за ветку другого дерева с противоположного берега,'\n",
        "                  f' нависшего над рекой. Однако когда он '\n",
        "                  f'плыл по течению, то несколько раз ударился об камни. \\n'\n",
        "                  f'{name_knight} Потерял 10 очков здоровья.\\n'\n",
        "                  f'____________________________________________________________')\n",
        "            lost_armor_knight += 10\n",
        "        if lost_armor_knight > 0:\n",
        "            print(\n",
        "                f'И вот, наконец, {name_knight} добрался до башни. По пути он потерял {lost_armor_knight} очков здоровья. Однако '\n",
        "                f'сейчас это не имеет значения, ведь ему предстоит самое тяжёлое испытание - сражение с {name_drago}.')\n",
        "            return lost_armor_knight\n",
        "        else:\n",
        "            return lost_armor_knight\n",
        "\n",
        "\n",
        "armor_knight = dict([['Пластинчатая', 70], ['Кольчуга', 50], ['Кожаная', 30]])\n",
        "sword_knight = dict([['Кортик', 30], ['Эспада', 50], ['Двуручный меч', 70]])\n",
        "user_knight = input('Введите имя рыцаря: ')\n",
        "knight = Knight(user_knight, '', 0, '', 0, 100)\n",
        "info_knight = knight.equipment(armor_knight, sword_knight)\n",
        "\n",
        "user_dragon = input('Введите имя дракона:')\n",
        "dragon = Dragon(user_dragon, 0, 0)\n",
        "info_dragon = dragon.choose_dragon()\n",
        "\n",
        "lost_hp = dragon.story(user_knight, user_dragon)\n",
        "\n",
        "while info_dragon['health'] > 0 and info_knight['health'] > 0:\n",
        "    attack_knight = randint(0,info_knight['attack'])\n",
        "    attack_dragon = randint(0, info_dragon['attack'])\n",
        "    if attack_knight == 0:\n",
        "        print('Рыцарь свирепо замахнулся и .... промахнулся!')\n",
        "    else:\n",
        "        info_dragon['health'] -= attack_knight\n",
        "        print(f'Рыцарь нанёс удар и смог задеть дракона! Рыцарь снял {attack_knight} очков здоровья. '\n",
        "              f'У дракона осталось', {info_dragon['health']})\n",
        "        if info_dragon['health'] <= 0:\n",
        "            print(f'Последний и самый тяжелый удар наносит {user_knight} - дракон повержен!')\n",
        "            exit()\n",
        "    if attack_dragon == 0:\n",
        "        print('Дракон не смог каким-либо образом задеть рыцаря - мимо!')\n",
        "    else:\n",
        "        info_knight['health'] -= attack_dragon\n",
        "        print(f'Дракон атаковал рыцаря, тот не успел среагировать и получил урон в {attack_dragon} единиц.'\n",
        "              f'У рыцаря осталось', {info_knight['health']})\n",
        "        if info_knight['health'] <= 0:\n",
        "            print(\n",
        "                f\"Невероятно тяжелый бой выдаётся для рыцаря, замах и ... \"\n",
        "                f\"дракон успевает атаковать прежде чем это сделает рыцарь!\"\n",
        "                f\"{user_knight} повержен...\")"
      ],
      "metadata": {
        "id": "Oz9BZbhAFwua",
        "colab": {
          "base_uri": "https://localhost:8080/"
        },
        "outputId": "70bb3f70-6045-48e1-961b-ccf7c045dade"
      },
      "execution_count": null,
      "outputs": [
        {
          "output_type": "stream",
          "name": "stdout",
          "text": [
            "Введите имя рыцаря: ALEX\n",
            "Выберите ваши доспехи, учитывая, что допустимый уровень снаряжение(урон меча+очки брони) = 100:\n",
            "1) Пластинчатая (70 очков брони)\n",
            "2) Кольчуга (50 очков брони)\n",
            "3) Кожаная (30 очка брони)\n",
            "Ваш выбор: 2\n",
            "Выберите ваш меч, учитывая, что допустимый вес оставшийся уровень снаряжение(урон меча+очки брони) = 50:\n",
            "1) Кортик (max 30 очков урона)\n",
            "2) Эспада (max 50 очков урона)\n",
            "3) Двуручный меч(max 70 очков урона\n",
            "Ваш выбор: 2\n",
            "Введите имя дракона:GERALT\n",
            "Выберите характеристики для своего дракона:\n",
            "1) Здоровье: 300, Урон: 20\n",
            "2) Здоровье: 250, Урон: 30\n",
            "3) Здоровье: 220, Урон: 40\n",
            "3\n",
            "Давным-давно рыцарь по имени ALEX отправился спасать из заточения своих товарищей. \n",
            "Они находились под стражей в башне, которую охранял зловещий дракон GERALT.\n",
            "Нашему герою оставалось снарядиться и направиться на спасение.\n",
            "Однако на пути встречались многие неприятности, с которым наш герой справлялся с переменным успехом.\n",
            "____________________________________________________________\n",
            "Первым на пути встретилось вязкое болото, ALEX нашёл 3 способа его пройти. \n",
            "Выберите число от 1 до 3, чтоб выбрать путь, по которому пойдет ALEX.\n",
            "Ваш выбор: 2\n",
            "К сожалению, рыцарь оступился и начал вязнуть в болоте. Его спасла торчащая ветка из прогнившего дерева.\n",
            "Рыцарь смог выбраться из болота и пойти дальше, но немного повредил свои лодыжку, когда начал падать, и стал хромать.\n",
            "ALEX Потерял 10 очков здоровья.\n",
            "____________________________________________________________\n",
            "Пройдя болото, через время рыцарь встретил на своём пути реку с быстрым течением.\n",
            "Возник вопрос: как же его обойти? Рыцарю на ум сразу же пришло - уронить один из стволовдеревьев между берегами.\n",
            "Однако это было очень рискованно, но нужно было быстрее добраться.\n",
            "Выберите число от 1 до 3, чтобы определить какое дерево уронить.\n",
            "Ваш выбор: 2\n",
            "Рыцарь успешно повалил дерево и перешёл на другой берег, несмотря на то, что ему казалось: оно развалится или его смоет, пока он идёт по нему. \n",
            "Пронесло. ALEX идёт дальше\n",
            "____________________________________________________________\n",
            "И вот, наконец, ALEX добрался до башни. По пути он потерял 10 очков здоровья. Однако сейчас это не имеет значения, ведь ему предстоит самое тяжёлое испытание - сражение с GERALT.\n",
            "Рыцарь нанёс удар и смог задеть дракона! Рыцарь снял 49 очков здоровья. У дракона осталось {151}\n",
            "Дракон атаковал рыцаря, тот не успел среагировать и получил урон в 35 единиц.У рыцаря осталось {115}\n",
            "Рыцарь нанёс удар и смог задеть дракона! Рыцарь снял 26 очков здоровья. У дракона осталось {125}\n",
            "Дракон атаковал рыцаря, тот не успел среагировать и получил урон в 6 единиц.У рыцаря осталось {109}\n",
            "Рыцарь нанёс удар и смог задеть дракона! Рыцарь снял 41 очков здоровья. У дракона осталось {84}\n",
            "Дракон атаковал рыцаря, тот не успел среагировать и получил урон в 25 единиц.У рыцаря осталось {84}\n",
            "Рыцарь нанёс удар и смог задеть дракона! Рыцарь снял 23 очков здоровья. У дракона осталось {61}\n",
            "Дракон атаковал рыцаря, тот не успел среагировать и получил урон в 43 единиц.У рыцаря осталось {41}\n",
            "Рыцарь нанёс удар и смог задеть дракона! Рыцарь снял 37 очков здоровья. У дракона осталось {24}\n",
            "Дракон атаковал рыцаря, тот не успел среагировать и получил урон в 9 единиц.У рыцаря осталось {32}\n",
            "Рыцарь нанёс удар и смог задеть дракона! Рыцарь снял 45 очков здоровья. У дракона осталось {-21}\n",
            "Последний и самый тяжелый удар наносит ALEX - дракон повержен!\n",
            "Дракон атаковал рыцаря, тот не успел среагировать и получил урон в 35 единиц.У рыцаря осталось {-3}\n",
            "Невероятно тяжелый бой выдаётся для рыцаря, замах и ... дракон успевает атаковать прежде чем это сделает рыцарь!ALEX повержен...\n"
          ]
        }
      ]
    },
    {
      "cell_type": "markdown",
      "source": [
        "# Дополнительное задание\n"
      ],
      "metadata": {
        "id": "b_mJHXcQGI9t"
      }
    },
    {
      "cell_type": "markdown",
      "source": [
        "Задача: Система управления библиотекой\n",
        "\n",
        "**Цель**\n",
        "Создайте простую систему управления библиотекой, которая позволит пользователям добавлять книги, брать книги, возвращать книги и просматривать список доступных книг.\n",
        "\n",
        "**Требования**\n",
        "\n",
        "1. **Определение класса**:\n",
        "   – Создайте класс с именем «Book» со следующими атрибутами:\n",
        "     - `title`\n",
        "     - `автор`\n",
        "     - `isbn`\n",
        "     - `is_borrowed` (по умолчанию `False`)\n",
        "\n",
        "2. **Класс библиотеки**:\n",
        "   - Создайте класс с именем Library, который управляет коллекцией книг.\n",
        "   - Класс должен иметь следующие методы:\n",
        "     - `__init__(self)`: инициализирует пустой список книг.\n",
        "     - `add_book(self, book: Book)`: добавляет новую книгу в библиотеку.\n",
        "     - `borrow_book(self, isbn: str)`: помечает книгу как заимствованную. Если книга не найдена или уже взята, выведите соответствующее сообщение.\n",
        "     - `return_book(self, isbn: str)`: помечает книгу как возвращенную. Если книга не найдена или не была взята взаймы, выведите соответствующее сообщение.\n",
        "     - `list_available_books(self)`: печатает список всех доступных книг в библиотеке.\n",
        "     - `find_book(self, isbn: str)`: возвращает объект книги, если он найден, в противном случае возвращает `None`.\n",
        "\n",
        "3. **Взаимодействие с пользователем**:\n",
        "   - Создайте простое текстовое меню, которое позволит пользователям:\n",
        "     - Добавить книгу\n",
        "     - Одолжить книгу\n",
        "     - Вернуть книгу\n",
        "     - Список доступных книг\n",
        "     - Выйти из программы"
      ],
      "metadata": {
        "id": "pnIUdFPcGOVL"
      }
    },
    {
      "cell_type": "code",
      "source": [],
      "metadata": {
        "id": "GKKmdfN8GL6f"
      },
      "execution_count": null,
      "outputs": []
    },
    {
      "cell_type": "code",
      "source": [],
      "metadata": {
        "id": "ZXOWt9LeqWx0"
      },
      "execution_count": null,
      "outputs": []
    }
  ]
}