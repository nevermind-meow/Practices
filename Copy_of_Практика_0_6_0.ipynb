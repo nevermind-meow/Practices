{
  "nbformat": 4,
  "nbformat_minor": 0,
  "metadata": {
    "colab": {
      "provenance": [],
      "include_colab_link": true
    },
    "kernelspec": {
      "name": "python3",
      "display_name": "Python 3"
    },
    "language_info": {
      "name": "python"
    }
  },
  "cells": [
    {
      "cell_type": "markdown",
      "metadata": {
        "id": "view-in-github",
        "colab_type": "text"
      },
      "source": [
        "<a href=\"https://colab.research.google.com/github/nevermind-meow/Practices/blob/main/Copy_of_%D0%9F%D1%80%D0%B0%D0%BA%D1%82%D0%B8%D0%BA%D0%B0_0_6_0.ipynb\" target=\"_parent\"><img src=\"https://colab.research.google.com/assets/colab-badge.svg\" alt=\"Open In Colab\"/></a>"
      ]
    },
    {
      "cell_type": "markdown",
      "source": [
        "\n",
        "\n",
        "---\n",
        "\n"
      ],
      "metadata": {
        "id": "tKNG_RzWxG6g"
      }
    },
    {
      "cell_type": "markdown",
      "source": [
        "# **Дисклеймер**\n",
        "\n",
        "В данной практике будет введен дополнительный критерий: чистота и читаемость кода, а также соблюдение правил описанных в начале практики"
      ],
      "metadata": {
        "id": "cFcrKfclKWh0"
      }
    },
    {
      "cell_type": "markdown",
      "source": [
        "\n",
        "\n",
        "---\n",
        "\n"
      ],
      "metadata": {
        "id": "0SnE87X1xDlV"
      }
    },
    {
      "cell_type": "markdown",
      "source": [
        "# Задание 1\n",
        "\n",
        "**Задача:**\n",
        "\n",
        "Напишите функцию очищающий список от дубликтов\n",
        "\n",
        "\n",
        "*Запрещено:*\n",
        "\n",
        "*   Использовать set() или готовые функции очищающие список от дубликатов\n",
        "\n",
        "Вввод:\n",
        "\n",
        "```\n",
        "apple banana apple 1 3 4 4 5\n",
        "```\n",
        "\n",
        "\n",
        "Вывод:\n",
        "\n",
        "```\n",
        "apple banana 1 3 4 5\n",
        "```\n",
        "\n"
      ],
      "metadata": {
        "id": "VxawR9NubT_F"
      }
    },
    {
      "cell_type": "code",
      "source": [
        "user_string = input().split()\n",
        "result = []\n",
        "for elem in user_string:\n",
        "    if elem not in result:\n",
        "        result.append(elem)\n",
        "print(*result)"
      ],
      "metadata": {
        "id": "ml5gnbPXbeju"
      },
      "execution_count": null,
      "outputs": []
    },
    {
      "cell_type": "markdown",
      "source": [
        "# Задание 2\n",
        "\n",
        "**Задача:**\n",
        "\n",
        "Написать функцию для нахождения простых чисел в диапазоне\n",
        "\n",
        "Ввод:\n",
        "\n",
        "```\n",
        "10, 50\n",
        "```\n",
        "\n",
        "Вывод:\n",
        "\n",
        "```\n",
        "11, 13, 17, 19, 23, 29, 31, 37, 41, 43, 47\n",
        "```"
      ],
      "metadata": {
        "id": "y05x0eD0cVCC"
      }
    },
    {
      "cell_type": "code",
      "source": [
        "def prime_numbers(x):\n",
        "    check = (x>1) and all(x%i!=0 for i in range(2,int(x**0.5)+1) )\n",
        "    return check\n",
        "\n",
        "\n",
        "first_num = int(input('Первое число диапазона: '))\n",
        "last_num = int(input('Последнее число диапазона: '))\n",
        "result = []\n",
        "for x in range(first_num,last_num+1):\n",
        "    if prime_numbers(x):\n",
        "        result.append(x)\n",
        "print(*result,sep=', ')"
      ],
      "metadata": {
        "id": "XSMJnLgrc6Bf",
        "colab": {
          "base_uri": "https://localhost:8080/"
        },
        "outputId": "d2d3ae1b-263d-42c6-e881-00f4d98c72f7"
      },
      "execution_count": null,
      "outputs": [
        {
          "output_type": "stream",
          "name": "stdout",
          "text": [
            "Первое число диапазона: 10\n",
            "Последнее число диапазона: 50\n",
            "11, 13, 17, 19, 23, 29, 31, 37, 41, 43, 47\n"
          ]
        }
      ]
    },
    {
      "cell_type": "markdown",
      "source": [
        "# Задание 3\n",
        "\n",
        "Напишите функцию для объединения двух списков (список ключей и список значении) в словарь\n",
        "\n",
        "*Запрещено:*\n",
        "\n",
        "*   Использования готовых функции для объединения списков (пример: zip() )\n",
        "\n",
        "Дано:\n",
        "\n",
        "```\n",
        "keys = ['a', 'b', 'c', 'e' ]\n",
        "values = [1, 2, 3, 4]\n",
        "```\n",
        "\n",
        "Вывод:\n",
        "```\n",
        "{'a': 1, 'b': 2, 'c': 3, 'e': 4}\n",
        "```\n",
        "\n",
        "\n"
      ],
      "metadata": {
        "id": "vYM0LyxxdElN"
      }
    },
    {
      "cell_type": "code",
      "source": [
        "keys = ['a', 'b', 'c', 'e']\n",
        "values = [1, 2, 3, 4]\n",
        "new_dict = {}\n",
        "for i in range(0,len(keys)):\n",
        "    new_dict[keys[i]] = values[i]\n",
        "print(new_dict)"
      ],
      "metadata": {
        "id": "CRvhHTjCdvjS",
        "colab": {
          "base_uri": "https://localhost:8080/"
        },
        "outputId": "bba4576e-10fd-46d4-9a1a-7402b7668d4f"
      },
      "execution_count": null,
      "outputs": [
        {
          "output_type": "stream",
          "name": "stdout",
          "text": [
            "{'a': 1, 'b': 2, 'c': 3, 'e': 4}\n"
          ]
        }
      ]
    },
    {
      "cell_type": "markdown",
      "source": [
        "# Задание 4\n",
        "\n",
        "Напишите функцию(ии) для подсчета статистических параметров:\n",
        "*   Сумму\n",
        "*   Среднее арифметическое\n",
        "*   Медиану\n",
        "*   Моду\n",
        "\n",
        "\n",
        "*Запрещено:*\n",
        "\n",
        "*   sum()\n",
        "*   sorted()\n",
        "*   и других функции предоставляющих готовое решение задания\n",
        "\n",
        "Дано:\n",
        "\n",
        "```\n",
        "numbers = [1, 2, 2, 3, 4, 5, 6, 7, 8 ,9 ,10]\n",
        "\n",
        "```\n",
        "\n",
        "Вывод:\n",
        "```\n",
        "{'mean': 5.181818181818182, 'median': 5, 'mode': 2, 'sum': 57}\n",
        "```\n"
      ],
      "metadata": {
        "id": "L_w8H8i-fQcP"
      }
    },
    {
      "cell_type": "code",
      "source": [
        "def num_sum(nums):\n",
        "    result = 0\n",
        "    for i in nums:\n",
        "        result += i\n",
        "    return result\n",
        "\n",
        "\n",
        "def num_avg(nums):\n",
        "    amount = 0\n",
        "    result = 0\n",
        "    for i in nums:\n",
        "        result += i\n",
        "        amount += 1\n",
        "    avg = result / amount\n",
        "    return avg\n",
        "\n",
        "\n",
        "def num_median(nums):\n",
        "    length = 0\n",
        "    median = 0\n",
        "    for i in nums:\n",
        "        length += 1\n",
        "    if length % 2 != 0:\n",
        "        median = length//2\n",
        "    if length % 2 == 0:\n",
        "        neighbour_nums = nums[length//2 + 1] + nums[length//2 + 2]\n",
        "        median = neighbour_nums/2\n",
        "    return median\n",
        "\n",
        "\n",
        "def mode_num(nums):\n",
        "    dict_mode = {}\n",
        "    mode = 0\n",
        "    for i in nums:\n",
        "        dict_mode[i] = 0\n",
        "    for key in dict_mode.keys():\n",
        "        for elem in nums:\n",
        "            if elem == key:\n",
        "                dict_mode[key] += 1\n",
        "    for key, value in dict_mode.items():\n",
        "        if value == 2:\n",
        "            mode = key\n",
        "    return mode\n",
        "\n",
        "\n",
        "numbers = [1, 2, 2, 3, 4, 5, 6, 7, 8 ,9 ,10]\n",
        "parameters = {'mean': 0, 'median': 0, 'mode': 0, 'sum': 0}\n",
        "for key in parameters.keys():\n",
        "    if key == 'mean':\n",
        "        parameters[key] = num_avg(numbers)\n",
        "    if key == 'median':\n",
        "        parameters[key] = num_median(numbers)\n",
        "    if key == 'mode':\n",
        "        parameters[key] = mode_num(numbers)\n",
        "    if key == 'sum':\n",
        "        parameters[key] = num_sum(numbers)\n",
        "print(parameters)"
      ],
      "metadata": {
        "id": "dW6jW_rjfuba",
        "colab": {
          "base_uri": "https://localhost:8080/"
        },
        "outputId": "2765addd-1e6f-4e67-9bda-9837430a9d4c"
      },
      "execution_count": null,
      "outputs": [
        {
          "output_type": "stream",
          "name": "stdout",
          "text": [
            "{'mean': 5.181818181818182, 'median': 5, 'mode': 2, 'sum': 57}\n"
          ]
        }
      ]
    },
    {
      "cell_type": "markdown",
      "source": [
        "# Задание 5\n",
        "\n",
        "На ввод поступает строка символов. Строка состоит из слов, которые отделены друг от друга пробелами. Необходимо вывести самое длинное слово и его порядковый номер.\n",
        "\n",
        "*Запрещено:*\n",
        "\n",
        "*   len()\n",
        "\n",
        "Дано:\n",
        "\n",
        "```\n",
        "Страдание и боль всегда обязательны для широкого сознания и глубокого сердца.\n",
        "\n",
        "```\n",
        "\n",
        "Вывод:\n",
        "```\n",
        "Самое длинное слово с номером 5: обязательны\n",
        "```"
      ],
      "metadata": {
        "id": "hZW0NZ7SgTcp"
      }
    },
    {
      "cell_type": "code",
      "source": [
        "user_line = 'Страдание и боль всегда обязательны для широкого сознания и глубокого сердца.'\n",
        "words = user_line.split()\n",
        "\n",
        "lengths_words = []\n",
        "c = 0\n",
        "amount_words = 0\n",
        "for word in words:\n",
        "    amount_words += 1\n",
        "    c = 0\n",
        "    for letter in word:\n",
        "        if letter not in '.,:;-?!\"':\n",
        "            c += 1\n",
        "    lengths_words.append(c)\n",
        "result_dict = dict(zip(words,lengths_words))\n",
        "\n",
        "max_length = max(lengths_words)\n",
        "longest_word = ''\n",
        "for key,value in result_dict.items():\n",
        "    if value == max_length:\n",
        "        longest_word = key\n",
        "\n",
        "index_longest = 0\n",
        "for i in range(0,amount_words):\n",
        "    if words[i] == longest_word:\n",
        "        index_longest = i+1\n",
        "\n",
        "print(f'Самое длинное слово с номером {index_longest}: {longest_word}')"
      ],
      "metadata": {
        "id": "rC5DpHHLsDYp",
        "colab": {
          "base_uri": "https://localhost:8080/"
        },
        "outputId": "fb9d9d8e-cf41-4d97-b797-cd417e8448fe"
      },
      "execution_count": null,
      "outputs": [
        {
          "output_type": "stream",
          "name": "stdout",
          "text": [
            "Самое длинное слово с номером 5: обязательны\n"
          ]
        }
      ]
    },
    {
      "cell_type": "markdown",
      "source": [
        "# Задание 6\n",
        "\n",
        "Напишите программу, для управления оценками студентов, со следующими функциями:\n",
        "\n",
        "* Добавление информации о студенте и его оценках.\n",
        "* Подсчет среднего балла студента.\n",
        "* Получение списка всех студентов с их средними баллами.\n",
        "* Поиск студента по имени и вывод его оценок и среднего балла.\n",
        "\n",
        "\n",
        "\n"
      ],
      "metadata": {
        "id": "k5BzJW5ZeaQN"
      }
    },
    {
      "cell_type": "markdown",
      "source": [],
      "metadata": {
        "id": "HXfjwbQ5-hOa"
      }
    },
    {
      "cell_type": "code",
      "source": [
        "oaaooaoa"
      ],
      "metadata": {
        "id": "cvhlltVbdyoL"
      },
      "execution_count": null,
      "outputs": []
    },
    {
      "cell_type": "markdown",
      "source": [
        "# Задание 7\n",
        "\n",
        "\n",
        "**Задача:**\n",
        "\n",
        "Создайте приложение-викторину с командной строкой, которое задает пользователям вопросы по различным темам и отслеживает их результаты.\n",
        "\n",
        "Ключевые особенности:\n",
        "\n",
        "*   Хранение данных о вопросах и ответах на них, а также баллов за каждый вопрос\n",
        "*   Реализуйте функцию для представления вопросов, принятия ответов пользователей и предоставления обратной связи о том, являются ли ответы правильными или неправильными.\n",
        "*  После завершения викторины отобразите общий балл пользователя из числа ответов на вопросы.\n",
        "*  Реализуйте функцию добавления нового вопроса\n",
        "*  Реализуйте функцию перемешивания вопросов, для отображения случайного вопроса\n"
      ],
      "metadata": {
        "id": "iQ8Z-7PYgu1_"
      }
    },
    {
      "cell_type": "code",
      "source": [],
      "metadata": {
        "id": "DhxyYwHwh2V4"
      },
      "execution_count": null,
      "outputs": []
    }
  ]
}