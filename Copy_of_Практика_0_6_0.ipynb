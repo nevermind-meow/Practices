{
  "nbformat": 4,
  "nbformat_minor": 0,
  "metadata": {
    "colab": {
      "provenance": [],
      "include_colab_link": true
    },
    "kernelspec": {
      "name": "python3",
      "display_name": "Python 3"
    },
    "language_info": {
      "name": "python"
    }
  },
  "cells": [
    {
      "cell_type": "markdown",
      "metadata": {
        "id": "view-in-github",
        "colab_type": "text"
      },
      "source": [
        "<a href=\"https://colab.research.google.com/github/nevermind-meow/Practices/blob/main/Copy_of_%D0%9F%D1%80%D0%B0%D0%BA%D1%82%D0%B8%D0%BA%D0%B0_0_6_0.ipynb\" target=\"_parent\"><img src=\"https://colab.research.google.com/assets/colab-badge.svg\" alt=\"Open In Colab\"/></a>"
      ]
    },
    {
      "cell_type": "markdown",
      "source": [
        "\n",
        "\n",
        "---\n",
        "\n"
      ],
      "metadata": {
        "id": "tKNG_RzWxG6g"
      }
    },
    {
      "cell_type": "markdown",
      "source": [
        "# **Дисклеймер**\n",
        "\n",
        "В данной практике будет введен дополнительный критерий: чистота и читаемость кода, а также соблюдение правил описанных в начале практики"
      ],
      "metadata": {
        "id": "cFcrKfclKWh0"
      }
    },
    {
      "cell_type": "markdown",
      "source": [
        "\n",
        "\n",
        "---\n",
        "\n"
      ],
      "metadata": {
        "id": "0SnE87X1xDlV"
      }
    },
    {
      "cell_type": "markdown",
      "source": [
        "# Задание 1\n",
        "\n",
        "**Задача:**\n",
        "\n",
        "Напишите функцию очищающий список от дубликтов\n",
        "\n",
        "\n",
        "*Запрещено:*\n",
        "\n",
        "*   Использовать set() или готовые функции очищающие список от дубликатов\n",
        "\n",
        "Вввод:\n",
        "\n",
        "```\n",
        "apple banana apple 1 3 4 4 5\n",
        "```\n",
        "\n",
        "\n",
        "Вывод:\n",
        "\n",
        "```\n",
        "apple banana 1 3 4 5\n",
        "```\n",
        "\n"
      ],
      "metadata": {
        "id": "VxawR9NubT_F"
      }
    },
    {
      "cell_type": "code",
      "source": [
        "def clear_duplicate():\n",
        "    user_string = input('Введите строку: ').split()\n",
        "    result = []\n",
        "\n",
        "    for elem in user_string:\n",
        "        if elem not in result:\n",
        "            result.append(elem)\n",
        "\n",
        "    print(*result)\n",
        "\n",
        "\n",
        "print(clear_duplicate())"
      ],
      "metadata": {
        "id": "ml5gnbPXbeju",
        "colab": {
          "base_uri": "https://localhost:8080/"
        },
        "outputId": "e772e940-82e5-4e1c-f103-b8b777813618"
      },
      "execution_count": 4,
      "outputs": [
        {
          "output_type": "stream",
          "name": "stdout",
          "text": [
            "Введите строку: apple banana apple 1 3 4 4 5\n",
            "apple banana 1 3 4 5\n",
            "None\n"
          ]
        }
      ]
    },
    {
      "cell_type": "markdown",
      "source": [
        "# Задание 2\n",
        "\n",
        "**Задача:**\n",
        "\n",
        "Написать функцию для нахождения простых чисел в диапазоне\n",
        "\n",
        "Ввод:\n",
        "\n",
        "```\n",
        "10, 50\n",
        "```\n",
        "\n",
        "Вывод:\n",
        "\n",
        "```\n",
        "11, 13, 17, 19, 23, 29, 31, 37, 41, 43, 47\n",
        "```"
      ],
      "metadata": {
        "id": "y05x0eD0cVCC"
      }
    },
    {
      "cell_type": "code",
      "source": [
        "def prime_numbers(x):\n",
        "    check = (x>1) and all(x%i!=0 for i in range(2,int(x**0.5)+1) )\n",
        "\n",
        "    return check\n",
        "\n",
        "\n",
        "first_num = int(input('Первое число диапазона: '))\n",
        "last_num = int(input('Последнее число диапазона: '))\n",
        "result = []\n",
        "for x in range(first_num,last_num+1):\n",
        "    if prime_numbers(x):\n",
        "        result.append(x)\n",
        "print(*result,sep=', ')"
      ],
      "metadata": {
        "id": "XSMJnLgrc6Bf",
        "colab": {
          "base_uri": "https://localhost:8080/"
        },
        "outputId": "d2d3ae1b-263d-42c6-e881-00f4d98c72f7"
      },
      "execution_count": null,
      "outputs": [
        {
          "output_type": "stream",
          "name": "stdout",
          "text": [
            "Первое число диапазона: 10\n",
            "Последнее число диапазона: 50\n",
            "11, 13, 17, 19, 23, 29, 31, 37, 41, 43, 47\n"
          ]
        }
      ]
    },
    {
      "cell_type": "markdown",
      "source": [
        "# Задание 3\n",
        "\n",
        "Напишите функцию для объединения двух списков (список ключей и список значении) в словарь\n",
        "\n",
        "*Запрещено:*\n",
        "\n",
        "*   Использования готовых функции для объединения списков (пример: zip() )\n",
        "\n",
        "Дано:\n",
        "\n",
        "```\n",
        "keys = ['a', 'b', 'c', 'e' ]\n",
        "values = [1, 2, 3, 4]\n",
        "```\n",
        "\n",
        "Вывод:\n",
        "```\n",
        "{'a': 1, 'b': 2, 'c': 3, 'e': 4}\n",
        "```\n",
        "\n",
        "\n"
      ],
      "metadata": {
        "id": "vYM0LyxxdElN"
      }
    },
    {
      "cell_type": "code",
      "source": [
        "def unite():\n",
        "    keys = ['a', 'b', 'c', 'e']\n",
        "    values = [1, 2, 3, 4]\n",
        "    new_dict = {}\n",
        "\n",
        "    for i in range(0,len(keys)):\n",
        "        new_dict[keys[i]] = values[i]\n",
        "\n",
        "    print(new_dict)\n",
        "\n",
        "\n",
        "print(unite())"
      ],
      "metadata": {
        "id": "CRvhHTjCdvjS",
        "colab": {
          "base_uri": "https://localhost:8080/"
        },
        "outputId": "647aca5d-cd55-401e-91fa-8a436102059c"
      },
      "execution_count": 6,
      "outputs": [
        {
          "output_type": "stream",
          "name": "stdout",
          "text": [
            "{'a': 1, 'b': 2, 'c': 3, 'e': 4}\n",
            "None\n"
          ]
        }
      ]
    },
    {
      "cell_type": "markdown",
      "source": [
        "# Задание 4\n",
        "\n",
        "Напишите функцию(ии) для подсчета статистических параметров:\n",
        "*   Сумму\n",
        "*   Среднее арифметическое\n",
        "*   Медиану\n",
        "*   Моду\n",
        "\n",
        "\n",
        "*Запрещено:*\n",
        "\n",
        "*   sum()\n",
        "*   sorted()\n",
        "*   и других функции предоставляющих готовое решение задания\n",
        "\n",
        "Дано:\n",
        "\n",
        "```\n",
        "numbers = [1, 2, 2, 3, 4, 5, 6, 7, 8 ,9 ,10]\n",
        "\n",
        "```\n",
        "\n",
        "Вывод:\n",
        "```\n",
        "{'mean': 5.181818181818182, 'median': 5, 'mode': 2, 'sum': 57}\n",
        "```\n"
      ],
      "metadata": {
        "id": "L_w8H8i-fQcP"
      }
    },
    {
      "cell_type": "code",
      "source": [
        "def num_sum(nums):\n",
        "    result = 0\n",
        "\n",
        "    for i in nums:\n",
        "        result += i\n",
        "\n",
        "    return result\n",
        "\n",
        "\n",
        "def num_avg(nums):\n",
        "    amount = 0\n",
        "    result = 0\n",
        "\n",
        "    for i in nums:\n",
        "        result += i\n",
        "        amount += 1\n",
        "    avg = result / amount\n",
        "\n",
        "    return avg\n",
        "\n",
        "\n",
        "def num_median(nums):\n",
        "    length = 0\n",
        "    median = 0\n",
        "\n",
        "    for i in nums:\n",
        "        length += 1\n",
        "\n",
        "    if length % 2 != 0:\n",
        "        median = length//2\n",
        "\n",
        "    if length % 2 == 0:\n",
        "        neighbour_nums = nums[length//2 - 1] + nums[length//2]\n",
        "        median = neighbour_nums/2\n",
        "\n",
        "    return median\n",
        "\n",
        "\n",
        "def mode_num(nums):\n",
        "    dict_mode = {}\n",
        "    mode = 0\n",
        "\n",
        "    for i in nums:\n",
        "        dict_mode[i] = 0\n",
        "\n",
        "    for key in dict_mode.keys():\n",
        "        for elem in nums:\n",
        "            if elem == key:\n",
        "                dict_mode[key] += 1\n",
        "\n",
        "    for key, value in dict_mode.items():\n",
        "        if value == 2:\n",
        "            mode = key\n",
        "\n",
        "    return mode\n",
        "\n",
        "\n",
        "numbers = [1, 2, 2, 3, 4, 5, 6, 7, 8 ,9 ,10]\n",
        "parameters = {'mean': 0, 'median': 0, 'mode': 0, 'sum': 0}\n",
        "\n",
        "for key in parameters.keys():\n",
        "    if key == 'mean':\n",
        "        parameters[key] = num_avg(numbers)\n",
        "\n",
        "    if key == 'median':\n",
        "        parameters[key] = num_median(numbers)\n",
        "\n",
        "    if key == 'mode':\n",
        "        parameters[key] = mode_num(numbers)\n",
        "\n",
        "    if key == 'sum':\n",
        "        parameters[key] = num_sum(numbers)\n",
        "\n",
        "print(parameters)"
      ],
      "metadata": {
        "id": "dW6jW_rjfuba",
        "colab": {
          "base_uri": "https://localhost:8080/"
        },
        "outputId": "5318d8ce-dc64-4cdb-a3e9-1c59eee3f16e"
      },
      "execution_count": 10,
      "outputs": [
        {
          "output_type": "stream",
          "name": "stdout",
          "text": [
            "{'mean': 5.181818181818182, 'median': 5, 'mode': 2, 'sum': 57}\n"
          ]
        }
      ]
    },
    {
      "cell_type": "markdown",
      "source": [
        "# Задание 5\n",
        "\n",
        "На ввод поступает строка символов. Строка состоит из слов, которые отделены друг от друга пробелами. Необходимо вывести самое длинное слово и его порядковый номер.\n",
        "\n",
        "*Запрещено:*\n",
        "\n",
        "*   len()\n",
        "\n",
        "Дано:\n",
        "\n",
        "```\n",
        "Страдание и боль всегда обязательны для широкого сознания и глубокого сердца.\n",
        "\n",
        "```\n",
        "\n",
        "Вывод:\n",
        "```\n",
        "Самое длинное слово с номером 5: обязательны\n",
        "```"
      ],
      "metadata": {
        "id": "hZW0NZ7SgTcp"
      }
    },
    {
      "cell_type": "code",
      "source": [
        "user_line = 'Страдание и боль всегда обязательны для широкого сознания и глубокого сердца.'\n",
        "words = user_line.split() #список слов\n",
        "\n",
        "lengths_words = [] #список длин слов\n",
        "c = 0 #счётчик букв в слове\n",
        "amount_words = 0\n",
        "for word in words:\n",
        "    amount_words += 1\n",
        "    c = 0\n",
        "    for letter in word:\n",
        "        if letter not in '.,:;-?!\"':\n",
        "            c += 1 #если символ(буква) в слове не является знаком препинания, то счётчик увеличивает свое значение\n",
        "    lengths_words.append(c)\n",
        "result_dict = dict(zip(words,lengths_words)) #словарь где ключ - слово, а значение - его длина\n",
        "\n",
        "max_length = max(lengths_words)\n",
        "longest_word = ''\n",
        "for key,value in result_dict.items(): #перебираем слова и их длины, чтоб сравнить их с самым длинным в lengths_words. если такое найдется, то longest_word становится равным слову\n",
        "    if value == max_length:\n",
        "        longest_word = key\n",
        "\n",
        "index_longest = 0\n",
        "for i in range(0,amount_words): #проходимся по индексам списка слов, чтоб найти номер самого длинного слова. т.к. проходимся по индексам(а они начинаются с 0), то значение номера слова будет (index+1)\n",
        "    if words[i] == longest_word:\n",
        "        index_longest = i+1\n",
        "\n",
        "print(f'Самое длинное слово с номером {index_longest}: {longest_word}')"
      ],
      "metadata": {
        "id": "rC5DpHHLsDYp",
        "colab": {
          "base_uri": "https://localhost:8080/"
        },
        "outputId": "fb9d9d8e-cf41-4d97-b797-cd417e8448fe"
      },
      "execution_count": null,
      "outputs": [
        {
          "output_type": "stream",
          "name": "stdout",
          "text": [
            "Самое длинное слово с номером 5: обязательны\n"
          ]
        }
      ]
    },
    {
      "cell_type": "markdown",
      "source": [
        "# Задание 6\n",
        "\n",
        "Напишите программу, для управления оценками студентов, со следующими функциями:\n",
        "\n",
        "* Добавление информации о студенте и его оценках.\n",
        "* Подсчет среднего балла студента.\n",
        "* Получение списка всех студентов с их средними баллами.\n",
        "* Поиск студента по имени и вывод его оценок и среднего балла.\n",
        "\n",
        "\n",
        "\n"
      ],
      "metadata": {
        "id": "k5BzJW5ZeaQN"
      }
    },
    {
      "cell_type": "markdown",
      "source": [],
      "metadata": {
        "id": "HXfjwbQ5-hOa"
      }
    },
    {
      "cell_type": "code",
      "source": [
        "def student_add(students_list, students_rates, average_rates):\n",
        "    name = input('Введите имя студента: ')\n",
        "    rates = input('Введите оценки студента через пробел: ').split()\n",
        "    rates = [int(i) for i in rates]\n",
        "    avg_rates = round(sum(rates)/len(rates), 3)\n",
        "\n",
        "    students_list.append(name)\n",
        "    students_rates.append(rates)\n",
        "    average_rates.append(avg_rates)\n",
        "\n",
        "    print(f'Имя студента: {name}\\n'\n",
        "          f'Оценки студента: {rates}\\n'\n",
        "          f'Средний балл студента: {avg_rates}')\n",
        "\n",
        "\n",
        "def get_rates(student_list, average_rates):\n",
        "    info_student = set()\n",
        "    for student in range(0,len(student_list)):\n",
        "        for average in range(0,len(average_rates)):\n",
        "            if student == average:\n",
        "                print(f'Студент: {student_list[student]}, средний балл студента: {average_rates[average]}')\n",
        "\n",
        "\n",
        "def find_student(student_list, students_rates, average_rates):\n",
        "    name = input('Введите имя студента: ')\n",
        "    for student in range(0,len(student_list)):\n",
        "        if name == student_list[student]:\n",
        "            print(f'Студент: {name}, \\n'\n",
        "             f'Средний балл студента: {average_rates[student]},\\n'\n",
        "             f'Оценки студента: {students_rates[student]}')\n",
        "\n",
        "\n",
        "list_of_students = []\n",
        "list_of_marks = []\n",
        "list_of_avg_marks = []\n",
        "while user_way := int(input('Введите номер операции:\\n'\n",
        "                            '1) Добавить студента: \\n'\n",
        "                            '2) Получить список всех студентов и их оценки: \\n'\n",
        "                            '3) Поиск студента по имени, вывод оценок и среднего балла: \\n'\n",
        "                            '4) Завершить взаимодействие: ')):\n",
        "    if user_way == 1:\n",
        "        student_add(list_of_students, list_of_marks, list_of_avg_marks)\n",
        "\n",
        "    if user_way == 2:\n",
        "        get_rates(list_of_students, list_of_avg_marks)\n",
        "\n",
        "    if user_way == 3:\n",
        "        find_student(list_of_students, list_of_marks, list_of_avg_marks)\n",
        "\n",
        "    if user_way == 4:\n",
        "        print('Всего хорошего!')\n",
        "        exit()\n"
      ],
      "metadata": {
        "id": "cvhlltVbdyoL"
      },
      "execution_count": null,
      "outputs": []
    },
    {
      "cell_type": "markdown",
      "source": [
        "# Задание 7\n",
        "\n",
        "\n",
        "**Задача:**\n",
        "\n",
        "Создайте приложение-викторину с командной строкой, которое задает пользователям вопросы по различным темам и отслеживает их результаты.\n",
        "\n",
        "Ключевые особенности:\n",
        "\n",
        "*   Хранение данных о вопросах и ответах на них, а также баллов за каждый вопрос\n",
        "*   Реализуйте функцию для представления вопросов, принятия ответов пользователей и предоставления обратной связи о том, являются ли ответы правильными или неправильными.\n",
        "*  После завершения викторины отобразите общий балл пользователя из числа ответов на вопросы.\n",
        "*  Реализуйте функцию добавления нового вопроса\n",
        "*  Реализуйте функцию перемешивания вопросов, для отображения случайного вопроса\n"
      ],
      "metadata": {
        "id": "iQ8Z-7PYgu1_"
      }
    },
    {
      "cell_type": "code",
      "source": [
        "from random import randint\n",
        "\n",
        "\n",
        "def quiz(questions, answers):\n",
        "    points = 0\n",
        "    right_answers = 0\n",
        "\n",
        "    for quest in range(0, len(questions)):\n",
        "        print(questions[quest])\n",
        "        user_answer = input('Введите ответ на вопрос: ')\n",
        "        if user_answer == answers[quest]:\n",
        "            points += 15\n",
        "            print('Поздравляем! Вы правильно ответили на вопрос. +15 баллов')\n",
        "            right_answers += 1\n",
        "        else:\n",
        "            points -= 10\n",
        "            print(f'К сожалению, вы неправильно ответили на вопрос :(. -10 баллов\\n'\n",
        "                  f'Правильный ответ: {answers[quest]}')\n",
        "\n",
        "    print(f'Ваш текущий счёт после викторины: {points}\\n'\n",
        "          f'Количество правильных ответов на вопросов: {right_answers}/{len(questions)}')\n",
        "\n",
        "\n",
        "def add_question(questions, answers):\n",
        "    user_add_question = input('Добавьте ваш вопрос: ')\n",
        "    user_add_answer = input('Добавьте ответ на ваш вопрос: ')\n",
        "    questions.append(user_add_question)\n",
        "    answers.append(user_add_answer)\n",
        "\n",
        "\n",
        "def random_quiz(questions, answers):\n",
        "    lucky_quest = randint(0, len(questions)-1)\n",
        "    print(questions[lucky_quest])\n",
        "    user_answer = input('Введите ответ на вопрос: ')\n",
        "\n",
        "    if user_answer == answers[lucky_quest]:\n",
        "        print('Поздравляем! Вы правильно ответили на вопрос.')\n",
        "    else:\n",
        "        print(f'К сожалению, вы неправильно ответили на вопрос.\\n'\n",
        "              f'Правильный ответ: {answers[lucky_quest]}')\n",
        "\n",
        "\n",
        "underlines = '_____________________________________'\n",
        "quiz_questions = ['Что может путешествовать по миру, оставаясь в одном углу?',\n",
        "                  'Чем больше из неё берёшь, тем больше она становится.',\n",
        "                  'У меня есть города, но нет домов. У меня есть горы, но нет деревьев. У меня есть вода, но нет рыб. Что я?',\n",
        "                  'Кто ходит сидя?',\n",
        "                  'Без рук, без ног, а рисовать умеет',\n",
        "                  'В каком месяце люди меньше всего разговаривают?',\n",
        "                  'Какое слово всегда звучит неверно?',\n",
        "                  'Что можно поймать, но нельзя бросить?',\n",
        "                  'Что можно увидеть с закрытыми глазами?',\n",
        "                  'Что принадлежит вам, однако другие этим пользуются чаще, чем вы сами?']\n",
        "quiz_answers = ['марка', 'яма', 'карта', 'шахматист', 'мороз', 'февраль', 'неверно', 'простуда', 'сон', 'имя']\n",
        "\n",
        "print('Доброго времени суток! Предлагаем вам поучаствовать в нашем квизе!')\n",
        "way = int(input('Выберите цифру:\\n'\n",
        "                '1) Пройти викторину\\n'\n",
        "                '2) Добавить собственный вопрос и ответ к нему\\n'\n",
        "                '3) Ответить на случайный вопрос\\n'\n",
        "                '4) Закончить взаимодействие: '))\n",
        "\n",
        "while way in [1, 2, 3, 4]:\n",
        "    if way == 1:\n",
        "        quiz(quiz_questions, quiz_answers)\n",
        "        print(underlines)\n",
        "        way = int(input('Выберите цифру:\\n'\n",
        "                        '1) Пройти викторину\\n'\n",
        "                        '2) Добавить собственный вопрос и ответ к нему\\n'\n",
        "                        '3) Ответить на случайный вопрос\\n'\n",
        "                        '4) Закончить взаимодействие: '))\n",
        "\n",
        "    if way == 2:\n",
        "        add_question(quiz_questions, quiz_answers)\n",
        "        print(f'Ваш вопрос: {quiz_questions[-1]}\\n'\n",
        "              f'Ответ на ваш вопрос: {quiz_answers[-1]}')\n",
        "        print(underlines)\n",
        "\n",
        "        way = int(input('Выберите цифру:\\n'\n",
        "                        '1) Пройти викторину\\n'\n",
        "                        '2) Добавить собственный вопрос и ответ к нему\\n'\n",
        "                        '3) Ответить на случайный вопрос\\n'\n",
        "                        '4) Закончить взаимодействие: '))\n",
        "\n",
        "    if way == 3:\n",
        "        random_quiz(quiz_questions, quiz_answers)\n",
        "        print(underlines)\n",
        "\n",
        "        way = int(input('Выберите цифру:\\n'\n",
        "                        '1) Пройти викторину\\n'\n",
        "                        '2) Добавить собственный вопрос и ответ к нему\\n'\n",
        "                        '3) Ответить на случайный вопрос\\n'\n",
        "                        '4) Закончить взаимодействие: '))\n",
        "\n",
        "    if way == 4:\n",
        "        print('Спасибо за игру!')\n",
        "        exit()\n"
      ],
      "metadata": {
        "id": "DhxyYwHwh2V4"
      },
      "execution_count": null,
      "outputs": []
    }
  ]
}