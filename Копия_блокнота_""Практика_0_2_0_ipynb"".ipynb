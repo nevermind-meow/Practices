{
  "nbformat": 4,
  "nbformat_minor": 0,
  "metadata": {
    "colab": {
      "provenance": [],
      "include_colab_link": true
    },
    "kernelspec": {
      "name": "python3",
      "display_name": "Python 3"
    },
    "language_info": {
      "name": "python"
    }
  },
  "cells": [
    {
      "cell_type": "markdown",
      "metadata": {
        "id": "view-in-github",
        "colab_type": "text"
      },
      "source": [
        "<a href=\"https://colab.research.google.com/github/nevermind-meow/Practices/blob/main/%D0%9A%D0%BE%D0%BF%D0%B8%D1%8F_%D0%B1%D0%BB%D0%BE%D0%BA%D0%BD%D0%BE%D1%82%D0%B0_%22%22%D0%9F%D1%80%D0%B0%D0%BA%D1%82%D0%B8%D0%BA%D0%B0_0_2_0_ipynb%22%22.ipynb\" target=\"_parent\"><img src=\"https://colab.research.google.com/assets/colab-badge.svg\" alt=\"Open In Colab\"/></a>"
      ]
    },
    {
      "cell_type": "markdown",
      "source": [
        "\n",
        "\n",
        "```\n",
        "# Выбран кодовый формат\n",
        "```\n",
        "\n",
        "Напишите свое ФИО: Шмелёв Александр Олегович"
      ],
      "metadata": {
        "id": "0PnTh-ajEoEb"
      }
    },
    {
      "cell_type": "code",
      "source": [
        "print('Привет студентам!')"
      ],
      "metadata": {
        "id": "QyMVPjzWErHw",
        "colab": {
          "base_uri": "https://localhost:8080/"
        },
        "outputId": "7a1724de-56a9-4b4e-f7dd-d5fca42ff012"
      },
      "execution_count": null,
      "outputs": [
        {
          "output_type": "stream",
          "name": "stdout",
          "text": [
            "Привет студентам!\n"
          ]
        }
      ]
    },
    {
      "cell_type": "markdown",
      "source": [
        "# Основы"
      ],
      "metadata": {
        "id": "HPwKiIA4EKO-"
      }
    },
    {
      "cell_type": "markdown",
      "source": [
        "Задание 1: Напиши программу, выводящую на экран сообщение \"Привет, мир!\""
      ],
      "metadata": {
        "id": "8po5IidFERZ8"
      }
    },
    {
      "cell_type": "code",
      "source": [
        "print('Привет, мир!')"
      ],
      "metadata": {
        "colab": {
          "base_uri": "https://localhost:8080/"
        },
        "id": "WZJ2p1yLO0Da",
        "outputId": "4bbb4119-d83c-4927-e1d3-798ca4b5ba0b"
      },
      "execution_count": null,
      "outputs": [
        {
          "output_type": "stream",
          "name": "stdout",
          "text": [
            "Привет, мир!\n"
          ]
        }
      ]
    },
    {
      "cell_type": "markdown",
      "source": [
        "Задание 2: Напиши программу которая запрашивает имя пользователя и выводит сообщение:\n",
        "\n",
        "`Привет, <Имя пользователя>`"
      ],
      "metadata": {
        "id": "pUQIIo94EYLg"
      }
    },
    {
      "cell_type": "code",
      "source": [
        "username = input('Введите имя пользователя:')\n",
        "print('Привет,' + username)"
      ],
      "metadata": {
        "id": "nNwHKmAnEinH",
        "colab": {
          "base_uri": "https://localhost:8080/"
        },
        "outputId": "3bf565a7-504f-4548-c8b7-845d61388850"
      },
      "execution_count": null,
      "outputs": [
        {
          "output_type": "stream",
          "name": "stdout",
          "text": [
            "Введите имя пользователя ало\n",
            "Привет, ало\n"
          ]
        }
      ]
    },
    {
      "cell_type": "markdown",
      "source": [
        "Задание 3: Напиши программу определяющую является ли число четным или нечетным:\n",
        "\n",
        "Пример:\n",
        "\n",
        "`Введите число:` 2\n",
        "\n",
        "`Ваше число четное!`"
      ],
      "metadata": {
        "id": "SAUm9W6_Etkh"
      }
    },
    {
      "cell_type": "code",
      "source": [
        "number = int(input('Введите число:'))\n",
        "if (number % 2) == 0:\n",
        "    print('Ваше число четное!')\n",
        "else:\n",
        "    print('Ваше число нечетное!')"
      ],
      "metadata": {
        "id": "LXv7AIN1E4on",
        "colab": {
          "base_uri": "https://localhost:8080/"
        },
        "outputId": "e0da420b-a910-4ebf-c080-7f1070c6a537"
      },
      "execution_count": null,
      "outputs": [
        {
          "output_type": "stream",
          "name": "stdout",
          "text": [
            "Введите число: 2\n",
            "Ваше число четное!\n"
          ]
        }
      ]
    },
    {
      "cell_type": "markdown",
      "source": [
        "Задание 4: Напишите программу которая запрашивает длинну и ширину прямоугольника и выводит его площадь:\n",
        "\n",
        "\n",
        "\n",
        "`Введите длинну прямоугольника:`\n",
        "\n",
        "`Введите ширину прямоугольника:`\n",
        "\n",
        "`Площадь прямоугольника: `\n",
        "\n"
      ],
      "metadata": {
        "id": "OW1Y5KyUE_n9"
      }
    },
    {
      "cell_type": "code",
      "source": [
        "length = int(input('Введите длинну прямоугольника:'))\n",
        "width = int(input('Введите ширину прямоугольника:'))\n",
        "scale = length*width\n",
        "print('Площадь прямоугольника: ', scale)"
      ],
      "metadata": {
        "id": "Bu5iawknFbXP",
        "colab": {
          "base_uri": "https://localhost:8080/"
        },
        "outputId": "8e996454-ed92-486a-af50-14fd83406781"
      },
      "execution_count": null,
      "outputs": [
        {
          "output_type": "stream",
          "name": "stdout",
          "text": [
            "Введите длинну прямоугольника: 12\n",
            "Введите ширину прямоугольника:10\n",
            "Площадь прямоугольника:  120\n"
          ]
        }
      ]
    },
    {
      "cell_type": "markdown",
      "source": [
        "Задание 5: Напишите программу, которая будет вычислять среднее арифметическое введенных чисел"
      ],
      "metadata": {
        "id": "xj8_QNLsFfLw"
      }
    },
    {
      "cell_type": "code",
      "source": [
        "numbers = []\n",
        "amount = int(input('Введите кол-во чисел, у которых хотите найти среднее арифметическое: '))\n",
        "while amount != len(numbers):\n",
        "    number = int(input('Введите число:'))\n",
        "    numbers.append(number)\n",
        "average = sum(numbers) / len(numbers)\n",
        "print(average)"
      ],
      "metadata": {
        "id": "omumX59JFoKw",
        "colab": {
          "base_uri": "https://localhost:8080/"
        },
        "outputId": "aaa953f9-7c2c-4dd6-a80e-704e47462e7e"
      },
      "execution_count": null,
      "outputs": [
        {
          "output_type": "stream",
          "name": "stdout",
          "text": [
            "Введите кол-во чисел, у которых хотите найти среднее арифметическое: 5\n",
            "Введите число:5\n",
            "Введите число:8\n",
            "Введите число:4\n",
            "Введите число:2\n",
            "Введите число:10\n",
            "5.8\n"
          ]
        }
      ]
    },
    {
      "cell_type": "markdown",
      "source": [
        "Задание 6: Напиши программу, которая бы определяла является ли год високосным"
      ],
      "metadata": {
        "id": "qHXcBMUJcP91"
      }
    },
    {
      "cell_type": "code",
      "source": [
        "year =  int(input('Введите текущий год:'))\n",
        "if (year % 4) == 0:\n",
        "    print(year, '- високосный год')\n",
        "else:\n",
        "    print(year, '- невисокосный год')"
      ],
      "metadata": {
        "id": "5zIg47mwcKKr"
      },
      "execution_count": null,
      "outputs": []
    },
    {
      "cell_type": "markdown",
      "source": [
        "Задание 7: Необходимо создать простой калькулятор, который позволяет пользователю выбрать одну из четырёх операций (+, -, *, /), ввести два числа и получить результат выполнения операции."
      ],
      "metadata": {
        "id": "CYaQ69kucdhj"
      }
    },
    {
      "cell_type": "code",
      "source": [
        "num1 = float(input('Введите вещественное 1-ое число:'))\n",
        "num2 = float(input('Введите вещественное 2-ое число:'))\n",
        "sign = input('Введите знак операции над числами из предложенных (+, -, *, /) : ')\n",
        "if sign == '+':\n",
        "    result = num1 + num2\n",
        "    print(result)\n",
        "if sign == '-':\n",
        "    result = num1 - num2\n",
        "    print(result)\n",
        "if sign == '*':\n",
        "    result = num1 * num2\n",
        "    print(result)\n",
        "if sign == '/':\n",
        "    result = num1 / num2\n",
        "    print(result)"
      ],
      "metadata": {
        "id": "wR5UyEf7ciIE",
        "colab": {
          "base_uri": "https://localhost:8080/"
        },
        "outputId": "fc2a075a-b6aa-42e8-da29-de61b2ca6f26"
      },
      "execution_count": null,
      "outputs": [
        {
          "output_type": "stream",
          "name": "stdout",
          "text": [
            "Введите вещественное 1-ое число:12.5\n",
            "Введите вещественное 2-ое число:13.5\n",
            "Введите знак операции над числами из предложенных (+, -, *, /) : *\n",
            "168.75\n"
          ]
        }
      ]
    },
    {
      "cell_type": "markdown",
      "source": [
        "--------------------------------------------------------------------------------\n",
        "\n",
        "**Да, задания ниже тоже обязательны, вам необходимо выполнить веееееесь файл**\n",
        "\n",
        "--------------------------------------------------------------------------------\n"
      ],
      "metadata": {
        "id": "PcJ66hI-vAlk"
      }
    },
    {
      "cell_type": "markdown",
      "source": [
        "# Практика 0.2.1"
      ],
      "metadata": {
        "id": "XWBhGpdEFo-U"
      }
    },
    {
      "cell_type": "markdown",
      "source": [
        "**Шахматы**\n",
        "\n",
        "Даны стартовые и конечные координаты, а также фигура\n",
        "\n",
        "Необходимо определить, может ли заданная фигура так ходить?"
      ],
      "metadata": {
        "id": "9Lw9odpqFwtn"
      }
    },
    {
      "cell_type": "code",
      "source": [
        "#увы не смог довести до конца, не знаю как придумать равенства для проверки возможности хода.\n",
        "#x - буквы, у - цифры\n",
        "x1 = input('Введите латинскими буквами(a-h) позицию, с которой хотите совершить ход:')\n",
        "x1 = x1.lower()\n",
        "if x1 == 'a': x1 = 1\n",
        "if x1 == 'b': x1 = 2\n",
        "if x1 == 'c': x1 = 3\n",
        "if x1 == 'd': x1 = 4\n",
        "if x1 == 'e': x1 = 5\n",
        "if x1 == 'f': x1 = 6\n",
        "if x1 == 'g': x1 = 7\n",
        "if x1 == 'h': x1 = 8\n",
        "y1 = int(input('Введите числовой номер позиции, с которой хотите совершить ход:'))\n",
        "while y1<1 or y1>8:\n",
        "    y1 = input('Неккоретный ввод данных. Введите числовой номер позиции, с которой хотите совершить ход:')\n",
        "figure = input('Введите название фигуры(Ферзь, король, ладья, слон, конь, пешка):')\n",
        "figure = figure.lower()\n",
        "x2 = input('Введите латинскими буквами(a-h) позицию, в которую хотите совершить ход:')\n",
        "if x2 == 'a': x2 = 1\n",
        "if x2 == 'b': x2 = 2\n",
        "if x2 == 'c': x2 = 3\n",
        "if x2 == 'd': x2 = 4\n",
        "if x2 == 'e': x2 = 5\n",
        "if x2 == 'f': x2 = 6\n",
        "if x2 == 'g': x2 = 7\n",
        "if x2 == 'h': x2 = 8\n",
        "y2 = int(input('Введите числовой номер позиции, в которую хотите совершить ход:'))\n",
        "if figure=='ферзь':\n",
        "    if 1<=x1+x2<=(8+7) and 1<=y1+y2<=(8+7):"
      ],
      "metadata": {
        "id": "9IICo0p3F07P"
      },
      "execution_count": null,
      "outputs": []
    },
    {
      "cell_type": "markdown",
      "source": [
        "# Практика 0.2.2\n",
        "\n",
        "**Цифра на определенном месте:**\n",
        "\n",
        "Последовательно записан натуральный ряд чисел.\n",
        "\n",
        "Какая цифра стоит в N позиции"
      ],
      "metadata": {
        "id": "wI5bLNpHGDmO"
      }
    },
    {
      "cell_type": "code",
      "source": [
        "from random import *\n",
        "length = int(input('Введите длину(кол-во чисел) последовательности произвольных натуральных чисел: '))\n",
        "numbers = '' #строка, над которой производятся операции для вывода её пользователю\n",
        "result = '' #строка идентичная numbers, по которой происходит поиск цифры\n",
        "count = 0\n",
        "while length != count :\n",
        "  numbers += str(randint(1,100000))\n",
        "  result = numbers\n",
        "  numbers += '.'\n",
        "  count += 1\n",
        "str_user = numbers.replace('.',' ') #строка с произвольными числами, которую видет пользователь\n",
        "result = result.replace('.','')\n",
        "print('Ваша Последовательность произвольных натуральных чисел:', str_user) # последовательность\n",
        "print('Всего цифр в последовательности:',len(result))\n",
        "N = int(input('Введите позицию цифры(не учитывая запятые и пробелы между числами), которую хотите вывести:'))\n",
        "while N > len(result):\n",
        "  print('Вы ввели порядковый номер цифры, который превышает их кол-во. Повторите ввод вновь.')\n",
        "  N = int(input('Введите позицию цифры(не учитывая запятые и пробелы между числами), которую хотите вывести:'))\n",
        "else:\n",
        "  print(result[N-1])"
      ],
      "metadata": {
        "id": "XLm_zFGzGNsU",
        "colab": {
          "base_uri": "https://localhost:8080/"
        },
        "outputId": "7dc6e48c-c8fa-4d42-c17b-d40e4456ce56"
      },
      "execution_count": null,
      "outputs": [
        {
          "output_type": "stream",
          "name": "stdout",
          "text": [
            "Введите длину(кол-во чисел) последовательности произвольных натуральных чисел: 10\n",
            "Ваша Последовательность произвольных натуральных чисел: 58405 73553 74459 18950 3162 36560 87014 43467 84301 73551 \n",
            "Всего цифр в последовательности: 49\n",
            "Введите позицию цифры(не учитывая запятые и пробелы между числами), которую хотите вывести:45\n",
            "7\n"
          ]
        }
      ]
    },
    {
      "cell_type": "markdown",
      "source": [
        "# Практика 0.2.3\n",
        "\n",
        "\n",
        "Возьмите код из задания 7 и улучшите ваш калькулятор следующим образом:\n",
        "\n",
        "Пользователь вводит строку вида:\n",
        "\n",
        "(5+5)*5 - данная строка содержит в себе математическое выражение, а также скобки\n",
        "\n",
        "Ваша программа должная понять что за математическое выражение записано, проверить верно ли оно записано (пример неверного заполнения: (5(+)5)*5, а также расчитать его в соотвествии с правилами математики"
      ],
      "metadata": {
        "id": "dpxTJv-scnMy"
      }
    },
    {
      "cell_type": "code",
      "source": [
        "#даже не представляю как начать,кроме того как вставить калькулятор из 7 задания."
      ],
      "metadata": {
        "id": "18gOluyHcmmf"
      },
      "execution_count": null,
      "outputs": []
    }
  ]
}