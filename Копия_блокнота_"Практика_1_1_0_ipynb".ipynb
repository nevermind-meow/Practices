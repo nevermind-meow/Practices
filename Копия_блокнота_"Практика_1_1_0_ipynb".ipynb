{
  "nbformat": 4,
  "nbformat_minor": 0,
  "metadata": {
    "colab": {
      "provenance": [],
      "include_colab_link": true
    },
    "kernelspec": {
      "name": "python3",
      "display_name": "Python 3"
    },
    "language_info": {
      "name": "python"
    }
  },
  "cells": [
    {
      "cell_type": "markdown",
      "metadata": {
        "id": "view-in-github",
        "colab_type": "text"
      },
      "source": [
        "<a href=\"https://colab.research.google.com/github/nevermind-meow/Practices/blob/main/%D0%9A%D0%BE%D0%BF%D0%B8%D1%8F_%D0%B1%D0%BB%D0%BE%D0%BA%D0%BD%D0%BE%D1%82%D0%B0_%22%D0%9F%D1%80%D0%B0%D0%BA%D1%82%D0%B8%D0%BA%D0%B0_1_1_0_ipynb%22.ipynb\" target=\"_parent\"><img src=\"https://colab.research.google.com/assets/colab-badge.svg\" alt=\"Open In Colab\"/></a>"
      ]
    },
    {
      "cell_type": "markdown",
      "source": [
        "**ФИО:**"
      ],
      "metadata": {
        "id": "GEsFKJm-ABFp"
      }
    },
    {
      "cell_type": "code",
      "execution_count": null,
      "metadata": {
        "id": "wZMLYG_G_-19"
      },
      "outputs": [],
      "source": [
        "Шмелёв Александр Олегович"
      ]
    },
    {
      "cell_type": "markdown",
      "source": [
        "# Задание 1"
      ],
      "metadata": {
        "id": "H4DrYnJjADuZ"
      }
    },
    {
      "cell_type": "markdown",
      "source": [
        "**Описание:** Создайте иерархию классов для разных типов сотрудников в компании. Реализуйте родительский класс Employee и дочерние классы Manager и Developer. Каждый класс должен иметь метод для расчета зарплаты на основе различных критериев класса.\n",
        "\n",
        "\n",
        "Отрабатываемый принцип: Наследование\n",
        "\n"
      ],
      "metadata": {
        "id": "C17FWep-AF4a"
      }
    },
    {
      "cell_type": "code",
      "source": [
        "class Employee:\n",
        "    minimum_wage = 0\n",
        "\n",
        "    def __init__(self, additional_hours, minimal_wage):\n",
        "        self.additional_hours = additional_hours\n",
        "        self.minimum_wage = minimal_wage\n",
        "\n",
        "\n",
        "class Manager(Employee):\n",
        "    coefficient_manager = 1\n",
        "\n",
        "    def __init__(self, additional_hours, minimal_wage):\n",
        "        super().__init__(additional_hours, minimal_wage)\n",
        "\n",
        "    def calculate_salary(self, name, experience):\n",
        "        company_profit = int(input('Превысила ли компания прогноз по прибыли за текущий период?'\n",
        "                                   'Если да, то впишите на сколько сотен тысяч; '\n",
        "                                   'если нет, то впишите в поле ответа \"0\":'))\n",
        "        self.coefficient_manager += 0.0001 * company_profit\n",
        "\n",
        "        if self.additional_hours >= 32:\n",
        "            self.coefficient_manager += 0.0001 * self.additional_hours\n",
        "\n",
        "        if experience >= 7:\n",
        "            self.coefficient_manager += 0.01 * experience\n",
        "\n",
        "        total_salary = self.coefficient_manager * self.minimum_wage\n",
        "        return (f'Зарплата менеджера {name} составила: {round(total_salary,2)}'\n",
        "                f' с учётом коэффициента = {self.coefficient_manager}')\n",
        "\n",
        "\n",
        "class Developer(Employee):\n",
        "    coefficient_developer = 1\n",
        "\n",
        "    def __init__(self, additional_hours, minimal_wage):\n",
        "        super().__init__(additional_hours, minimal_wage)\n",
        "\n",
        "    def calculate_salary(self, name, experience):\n",
        "        app_top = int(input('Попало ли приложение в топ-30 по скачиваниям в Play Market/AppStore? '\n",
        "                            'Если да, то впишите номер позиции; '\n",
        "                            'если нет, то впишите \"0\": '))\n",
        "        if self.additional_hours >= 48:\n",
        "            self.coefficient_developer += 0.0001 * self.additional_hours\n",
        "\n",
        "        if app_top <= 30:\n",
        "            self.coefficient_developer += 0.01 * (31 - app_top)\n",
        "\n",
        "        if experience >= 3:\n",
        "            self.coefficient_developer += 0.0002 * experience\n",
        "\n",
        "        total_salary = self.coefficient_developer * self.minimum_wage\n",
        "        return (f'Зарплата девелопера {name} составила: {round(total_salary,2)}'\n",
        "                f' с учётом коэффициента = {self.coefficient_developer}')\n",
        "\n",
        "\n",
        "employee_name = input('Введите имя сотрудника: ')\n",
        "employee_experience = int(input('Введите кол-во лет опыта сотрудника: '))\n",
        "employee_add_hours = int(input('Введите кол-во часов отработанных дополнительно: '))\n",
        "employee_job = int(input('Введите номер соответствующей должности сотрудника:\\n'\n",
        "                         '1) Developer\\n'\n",
        "                         '2) Manager: '))\n",
        "if employee_job == 2:\n",
        "    employee_minimum_wage = int(input('Введите минимальную заработную плату для его должности: '))\n",
        "    user_manager = Manager(employee_add_hours, employee_minimum_wage)\n",
        "    manager_info = user_manager.calculate_salary(employee_name, employee_experience)\n",
        "    print(manager_info)\n",
        "if employee_job == 1:\n",
        "    employee_minimum_wage = int(input('Введите минимальную заработную плату для его должности: '))\n",
        "    user_developer = Developer(employee_add_hours, employee_minimum_wage)\n",
        "    developer_info = user_developer.calculate_salary(employee_name, employee_experience)\n",
        "    print(developer_info)"
      ],
      "metadata": {
        "id": "aexGXzqCAFH7"
      },
      "execution_count": null,
      "outputs": []
    },
    {
      "cell_type": "markdown",
      "source": [
        "# Задание 2"
      ],
      "metadata": {
        "id": "ERAi0TG5BI6v"
      }
    },
    {
      "cell_type": "markdown",
      "source": [
        "**Описание:** Создайте иерархию классов для различных типов транспортных средств (Необходим один родительский класс и 3 дочерних). Реализуйте метод, который позволяет каждому транспортному средству возвращать собственное описание (Метод в каждом классе должен иметь одинаковое название). Продемонстрируйте вызов данного метода для каждого транспортного средства.\n",
        "\n",
        "\n",
        "Отрабатываемый принцип: Полиморфизм"
      ],
      "metadata": {
        "id": "sJ3k7ZcgBK87"
      }
    },
    {
      "cell_type": "code",
      "source": [
        "class Transport:\n",
        "    kind_of_transport = 'Транспортные средства'\n",
        "\n",
        "    def __init__(self, kind_of_transport):\n",
        "        self.kind_of_transport = kind_of_transport\n",
        "\n",
        "    def description(self):\n",
        "        print(f'{self.kind_of_transport} - это технические устройства,'\n",
        "              f'используемые для перевозки людей и/или грузов на относительно большие расстояния.\\n'\n",
        "              f'_______________________________________________________')\n",
        "\n",
        "\n",
        "class Passenger(Transport):\n",
        "    kind_of_transport = 'Пассажирские транспортные средства'\n",
        "\n",
        "    def __init__(self, kind_of_transport):\n",
        "        super().__init__(kind_of_transport)\n",
        "\n",
        "    def description(self):\n",
        "        print(f'{self.kind_of_transport} - это технические устройства, '\n",
        "              'предназначенные для перевозки людей и их багажа.\\n'\n",
        "              'Они включают в себя автобусы, легковые автомобили, железные дороги, воздушные и морские суда и др.\\n'\n",
        "              'Пассажирские транспортные средства предоставляют услуги для широкого круга населения'\n",
        "              'и обычно работают по определенным маршрутам и расписанию\\n'\n",
        "              'Например: автобус, метро, паром\\n'\n",
        "              '_______________________________________________________')\n",
        "\n",
        "\n",
        "class CargoVehicles(Transport):\n",
        "    kind_of_transport = 'Грузовые транспортные средства'\n",
        "\n",
        "    def __init__(self, kind_of_transport):\n",
        "        super().__init__(kind_of_transport)\n",
        "\n",
        "    def description(self):\n",
        "        print(f'{self.kind_of_transport} — это специализированные технические устройства, '\n",
        "                f'используемые для транспортировки товаров, материалов и других крупногабаритных предметов. \\n'\n",
        "                f'Эти транспортные средства играют ключевую роль в логистике и '\n",
        "                f'снабжении, обеспечивая доставку продукции от производителей к потребителям.\\n'\n",
        "                f'Например: Танкер, грузовой самолёт, тягач.\\n'\n",
        "                f'_______________________________________________________')\n",
        "\n",
        "\n",
        "class SpecialVehicles(Transport):\n",
        "    kind_of_transport = 'Специальные транспортные средства'\n",
        "\n",
        "    def __init__(self, kind_of_transport):\n",
        "        super().__init__(kind_of_transport)\n",
        "\n",
        "    def description(self):\n",
        "        print(f'{self.kind_of_transport} — это технические устройства, созданные для выполнения  задач, '\n",
        "                f'связанных с особыми условиями эксплуатации, сложностью работ, уникальными требованиями безопасности.\\n'\n",
        "                f'Такие транспортные средства отличаются повышенной прочностью, надежностью и функциональной гибкостью.\\n'\n",
        "                f'Например: Скорая помощь, танк, ресурфейсер.\\n'\n",
        "                f'_______________________________________________________')\n",
        "\n",
        "\n",
        "all_transport = Transport('Транспортные средства')\n",
        "passenger_transport = Passenger('Пассажирское транспортное средство')\n",
        "cargo_transport = CargoVehicles('Грузовые транспортные средства')\n",
        "special_transport = SpecialVehicles('Специальные транспортные средства')\n",
        "\n",
        "all_transport.description()\n",
        "passenger_transport.description()\n",
        "cargo_transport.description()\n",
        "special_transport.description()"
      ],
      "metadata": {
        "id": "WOFOZQmDBKf4",
        "colab": {
          "base_uri": "https://localhost:8080/"
        },
        "outputId": "6656abf3-03a7-498a-eca2-a9e4a7ecc8de"
      },
      "execution_count": null,
      "outputs": [
        {
          "output_type": "stream",
          "name": "stdout",
          "text": [
            "Транспортные средства - это технические устройства,используемые для перевозки людей и/или грузов на относительно большие расстояния.\n",
            "_______________________________________________________\n",
            "Пассажирское транспортное средство - это технические устройства, предназначенные для перевозки людей и их багажа.\n",
            "Они включают в себя автобусы, легковые автомобили, железные дороги, воздушные и морские суда и др.\n",
            "Пассажирские транспортные средства предоставляют услуги для широкого круга населенияи обычно работают по определенным маршрутам и расписанию\n",
            "Например: автобус, метро, паром\n",
            "_______________________________________________________\n",
            "Грузовые транспортные средства — это специализированные технические устройства, используемые для транспортировки товаров, материалов и других крупногабаритных предметов. \n",
            "Эти транспортные средства играют ключевую роль в логистике и снабжении, обеспечивая доставку продукции от производителей к потребителям.\n",
            "Например: Танкер, грузовой самолёт, тягач.\n",
            "_______________________________________________________\n",
            "Специальные транспортные средства — это технические устройства, созданные для выполнения  задач, связанных с особыми условиями эксплуатации, сложностью работ, уникальными требованиями безопасности.\n",
            "Такие транспортные средства отличаются повышенной прочностью, надежностью и функциональной гибкостью.\n",
            "Например: Скорая помощь, танк, ресурфейсер.\n",
            "_______________________________________________________\n"
          ]
        }
      ]
    },
    {
      "cell_type": "markdown",
      "source": [
        "# Задание 3"
      ],
      "metadata": {
        "id": "7E_SJXMJBvD4"
      }
    },
    {
      "cell_type": "markdown",
      "source": [
        "Онлайн-магазин:\n",
        "- Создайте модель для онлайн-магазина с классами Product, Order, Customer, и ShoppingCart.\n",
        "- Product включает информацию о цене, наличии на складе и категории товара.\n",
        "Order обрабатывает процесс покупки, включая расчет цены с учетом скидок и налогов.\n",
        "- Customer управляет информацией о пользователе и его истории заказов.\n",
        "- ShoppingCart позволяет добавлять, удалять и обновлять количество товаров перед оформлением заказа.\n"
      ],
      "metadata": {
        "id": "dd1mwKj_BxHa"
      }
    },
    {
      "cell_type": "code",
      "source": [],
      "metadata": {
        "id": "wkCcv_K-Bwdv"
      },
      "execution_count": null,
      "outputs": []
    },
    {
      "cell_type": "markdown",
      "source": [
        "# Задание 4"
      ],
      "metadata": {
        "id": "ih7iPlYfB7lL"
      }
    },
    {
      "cell_type": "markdown",
      "source": [
        "Симулятор космического корабля:\n",
        "- Создайте симулятор управления космическим кораблем с классами SpaceShip, CrewMember, и Mission.\n",
        "- SpaceShip имеет атрибуты для управления топливом, состоянием корпуса, и текущей скоростью.\n",
        "- CrewMember контролирует здоровье, навыки, и роли в команде (например, пилот, инженер).\n",
        "- Mission определяет цели, ресурсы, и возможные события (например, аварии, встречи с астероидами)."
      ],
      "metadata": {
        "id": "zLwqVCbpCBvc"
      }
    },
    {
      "cell_type": "code",
      "source": [],
      "metadata": {
        "id": "4NyrOOy8B9ED"
      },
      "execution_count": null,
      "outputs": []
    },
    {
      "cell_type": "markdown",
      "source": [
        "# Дополнительно:"
      ],
      "metadata": {
        "id": "F7mRVsZjCXk0"
      }
    },
    {
      "cell_type": "markdown",
      "source": [
        "**Описание:** создайте консольную версию игры крестики-нолики, используя классы"
      ],
      "metadata": {
        "id": "X4Lkf86UCc1h"
      }
    },
    {
      "cell_type": "code",
      "source": [],
      "metadata": {
        "id": "x9OxpNsyCcUo"
      },
      "execution_count": null,
      "outputs": []
    }
  ]
}