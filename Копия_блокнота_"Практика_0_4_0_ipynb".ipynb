{
  "nbformat": 4,
  "nbformat_minor": 0,
  "metadata": {
    "colab": {
      "provenance": [],
      "include_colab_link": true
    },
    "kernelspec": {
      "name": "python3",
      "display_name": "Python 3"
    },
    "language_info": {
      "name": "python"
    }
  },
  "cells": [
    {
      "cell_type": "markdown",
      "metadata": {
        "id": "view-in-github",
        "colab_type": "text"
      },
      "source": [
        "<a href=\"https://colab.research.google.com/github/nevermind-meow/Practices/blob/main/%D0%9A%D0%BE%D0%BF%D0%B8%D1%8F_%D0%B1%D0%BB%D0%BE%D0%BA%D0%BD%D0%BE%D1%82%D0%B0_%22%D0%9F%D1%80%D0%B0%D0%BA%D1%82%D0%B8%D0%BA%D0%B0_0_4_0_ipynb%22.ipynb\" target=\"_parent\"><img src=\"https://colab.research.google.com/assets/colab-badge.svg\" alt=\"Open In Colab\"/></a>"
      ]
    },
    {
      "cell_type": "markdown",
      "source": [
        "Введите ваше ФИО:"
      ],
      "metadata": {
        "id": "k8oVfdwrMXyc"
      }
    },
    {
      "cell_type": "code",
      "execution_count": null,
      "metadata": {
        "id": "5mcBLsKMI1-5"
      },
      "outputs": [],
      "source": [
        "Шмелёв Александр Олегович"
      ]
    },
    {
      "cell_type": "markdown",
      "source": [
        "***Дисклеймер***\n",
        "\n",
        "В данной практике запрещено использования функций:\n",
        "\n",
        "\n",
        "*   sum()\n",
        "*   min()\n",
        "*   max()\n",
        "*   average()\n",
        "*   reversed()\n",
        "*   sorted()\n",
        "*   готовые функции или библиотеки\n"
      ],
      "metadata": {
        "id": "8HbYUbm3Jw3o"
      }
    },
    {
      "cell_type": "markdown",
      "source": [
        "\n",
        "**Задача 1:**\n",
        "\n",
        "\n",
        "\n",
        "Интернет-магазин предлагает следующие условия скидок:\n",
        "\n",
        "*   Для заказов больше 1000 единиц, клиент получает скидку 5%. Если клиент использует промокод SUPERDISCOUNT, он получает скидку 10% (вместо 5%).\n",
        "*  Для заказов более 5000 единиц, клиент получает скидку 15%, а использование промокода SUPERDISCOUNT увеличивает скидку до 20% (вместо 15%).\n",
        "\n",
        "Этап 1:\n",
        "Ввод:\n",
        "```\n",
        "Введите стоимость единицы товара: 5\n",
        "Введите количество товара: 1001\n",
        "Введите промокод: GiVEMEDISCONT\n",
        "```\n",
        "\n",
        "Вывод:\n",
        "\n",
        "```\n",
        "Ваша скидка: 5%\n",
        "Итоговая сумма: 4754.75\n",
        "```\n",
        "Этап 2:\n",
        "\n",
        "Оформите ваш код в виде функции"
      ],
      "metadata": {
        "id": "HmX0c6YPJSQr"
      }
    },
    {
      "cell_type": "code",
      "source": [
        "price = int(input('Введите стоимость единицы товара:'))\n",
        "amount = int(input('Введите количевство товара:'))\n",
        "def order(amount):\n",
        "  promo = input('Введите промокод:')\n",
        "  if amount <= 1000:\n",
        "    print('Ваша скидка: 0%')\n",
        "    discount = price * amount\n",
        "    return (f'Итоговая сумма: {discount}')\n",
        "  if amount > 5000:\n",
        "    if promo == 'SUPERDISCOUNT':\n",
        "      print('Ваша скидка: 20%')\n",
        "      discount = price * amount * 0.8\n",
        "      return (f'Итоговая сумма: {discount}')\n",
        "    else:\n",
        "      discount = price * amount * 0.85\n",
        "      print('Ваша скидка: 15%')\n",
        "      return (f'Итоговая сумма: {discount}')\n",
        "  if 1000<amount<=5000:\n",
        "    if promo == 'SUPERDISCOUNT':\n",
        "      print('Ваша скидка: 10%')\n",
        "      discount = price * amount * 0.9\n",
        "      return (f'Итоговая сумма: {discount}')\n",
        "    else:\n",
        "      discount = price * amount * 0.95\n",
        "      print('Ваша скидка: 5%')\n",
        "      return (f'Итоговая сумма: {discount}')\n",
        "print(order(amount))"
      ],
      "metadata": {
        "id": "OAIMIpklMN5D",
        "colab": {
          "base_uri": "https://localhost:8080/"
        },
        "outputId": "b1fcff92-e947-4af9-ede0-3ad0df824a35"
      },
      "execution_count": null,
      "outputs": [
        {
          "output_type": "stream",
          "name": "stdout",
          "text": [
            "Введите стоимость единицы товара:5\n",
            "Введите количевство товара:5421\n",
            "Введите промокод:SUPERDISCOUNT\n",
            "Ваша скидка: 20%\n",
            "Итоговая сумма: 21684.0\n"
          ]
        }
      ]
    },
    {
      "cell_type": "markdown",
      "source": [
        "**Задача 2:**\n",
        "\n",
        "Этап 1:\n",
        "Напишите программу способную отфильтровать список и вывести только положительные элементы\n",
        "\n",
        "\n",
        "Ввод:\n",
        "```\n",
        "-1 5 1 2 -3\n",
        "```\n",
        "\n",
        "Вывод:\n",
        "\n",
        "```\n",
        "5 1 2\n",
        "```\n",
        "\n",
        "Этап 2:\n",
        "\n",
        "Оформите ваш код в виде функции"
      ],
      "metadata": {
        "id": "eeRVWpuLNGJ0"
      }
    },
    {
      "cell_type": "code",
      "source": [
        "def filter(numbers):\n",
        "  return [int(element) for element in numbers if int(element)>0]\n",
        "nums = []\n",
        "while n := input('Введите ваши числа, которые хотите отфильтровать(если числа закончились, то оставьте строку ввода пустой)'):\n",
        "  if n != '':\n",
        "    nums = nums + [n]\n",
        "print(filter(nums))"
      ],
      "metadata": {
        "id": "Xbi6bL0WOE9N",
        "colab": {
          "base_uri": "https://localhost:8080/"
        },
        "outputId": "dd7218cd-98b4-4801-9fde-908a6b5d1091"
      },
      "execution_count": null,
      "outputs": [
        {
          "output_type": "stream",
          "name": "stdout",
          "text": [
            "Введите ваши числа, которые хотите отфильтровать(если числа закончились, то оставьте строку ввода пустой)-1\n",
            "Введите ваши числа, которые хотите отфильтровать(если числа закончились, то оставьте строку ввода пустой)5\n",
            "Введите ваши числа, которые хотите отфильтровать(если числа закончились, то оставьте строку ввода пустой)1\n",
            "Введите ваши числа, которые хотите отфильтровать(если числа закончились, то оставьте строку ввода пустой)2\n",
            "Введите ваши числа, которые хотите отфильтровать(если числа закончились, то оставьте строку ввода пустой)-3\n",
            "Введите ваши числа, которые хотите отфильтровать(если числа закончились, то оставьте строку ввода пустой)\n",
            "[5, 1, 2]\n"
          ]
        }
      ]
    },
    {
      "cell_type": "markdown",
      "source": [
        "**Задача 3:**\n",
        "\n",
        "Этап 1:\n",
        "Напишите программу реализующую Алгоритм Евклида\n",
        "\n",
        "\n",
        "> Алгоритм Евклида – это алгоритм нахождения наибольшего общего делителя (НОД) пары целых чисел.\n",
        "\n",
        "\n",
        "\n",
        "Ввод:\n",
        "```\n",
        "30 18\n",
        "```\n",
        "\n",
        "Вывод:\n",
        "\n",
        "```\n",
        "6\n",
        "```\n",
        "\n",
        "Этап 2:\n",
        "Оформите ваш код в виде функции\n"
      ],
      "metadata": {
        "id": "lV-w6G-POa6F"
      }
    },
    {
      "cell_type": "code",
      "source": [
        "def NOD(a,b):\n",
        "  while b!=0:\n",
        "    ost = a%b\n",
        "    a = b\n",
        "    b = ost\n",
        "  return(a)\n",
        "num1 = int(input('Введите первое число: '))\n",
        "num2 = int(input('Введите второе число: '))\n",
        "print('НОД этих чисел:', NOD(num1,num2))"
      ],
      "metadata": {
        "id": "X2n6fnd91yt7",
        "colab": {
          "base_uri": "https://localhost:8080/"
        },
        "outputId": "5cf2588b-df89-4b85-e958-d89d6b42ccf5"
      },
      "execution_count": null,
      "outputs": [
        {
          "output_type": "stream",
          "name": "stdout",
          "text": [
            "Введите первое число: 30\n",
            "Введите второе число: 18\n",
            "НОД этих чисел: 6\n"
          ]
        }
      ]
    },
    {
      "cell_type": "code",
      "source": [
        "\n"
      ],
      "metadata": {
        "id": "43Dl5tIpOZsu"
      },
      "execution_count": null,
      "outputs": []
    },
    {
      "cell_type": "markdown",
      "source": [],
      "metadata": {
        "id": "Aa83ADofPcPZ"
      }
    },
    {
      "cell_type": "markdown",
      "source": [
        "**Задача 4:**\n",
        "\n",
        "Этап 1:\n",
        "Напишите функцию программу, которая принимает строку и возвращает список слов и количество их упомнинаний в предложении\n",
        "\n",
        "Этап 2:\n",
        "Оформите ваш код в виде функции\n",
        "\n",
        "Ввод:\n",
        "```\n",
        "apple banana apple\n",
        "```\n",
        "\n",
        "Вывод:\n",
        "\n",
        "```\n",
        "apple: 2,\n",
        "banana: 1\n",
        "```"
      ],
      "metadata": {
        "id": "WIfPFxpsO0zL"
      }
    },
    {
      "cell_type": "code",
      "source": [
        "def counter(line):\n",
        "    result_list = []\n",
        "    result_dict = {}\n",
        "    for word in line.split():\n",
        "        result_dict[word] = 0\n",
        "    for word in line.split():\n",
        "        for key, value in result_dict.items():\n",
        "            if key == word:\n",
        "                result_dict[key] += 1\n",
        "    for key, value in result_dict.items():\n",
        "        result_list.append(f'{key}:{value}')\n",
        "    return result_list\n",
        "\n",
        "\n",
        "user_line = input('Введите вашу строку: ')\n",
        "print(counter(user_line))"
      ],
      "metadata": {
        "id": "DgsmFeW5Po_x",
        "colab": {
          "base_uri": "https://localhost:8080/"
        },
        "outputId": "ab588632-0ebf-4198-9e18-5573f92bd10b"
      },
      "execution_count": null,
      "outputs": [
        {
          "output_type": "stream",
          "name": "stdout",
          "text": [
            "Введите вашу строку: apple orange apple\n",
            "['apple:2', 'orange:1']\n"
          ]
        }
      ]
    },
    {
      "cell_type": "markdown",
      "source": [
        "**Задача 5:**\n",
        "\n",
        "Этап 1:\n",
        "Детектор анаграмм Напишите программу на Python, которая принимает в качестве входных данных две строки и проверяет, являются ли они анаграммами друг друга\n",
        "\n",
        "Этап 2:\n",
        "Оформите ваш код в виде функции\n",
        "\n",
        "Ввод:\n",
        "```\n",
        "listen, silent\n",
        "```\n",
        "\n",
        "Вывод:\n",
        "\n",
        "```\n",
        "True\n",
        "```"
      ],
      "metadata": {
        "id": "5BmIJLUZP9I-"
      }
    },
    {
      "cell_type": "code",
      "source": [
        "def check(line1,line2):\n",
        "    letters1 = {}\n",
        "    letters2 = {}\n",
        "    for letter in line1:\n",
        "        letters1[letter] = 0\n",
        "    for elem in line1:\n",
        "        for key in letters1:\n",
        "            if key == elem:\n",
        "                letters1[elem] += 1\n",
        "    for letter in line2:\n",
        "        letters2[letter] = 0\n",
        "    for elem in line2:\n",
        "        for key in letters2:\n",
        "            if key == elem:\n",
        "                letters2[elem] += 1\n",
        "    if letters1 == letters2:\n",
        "        return True\n",
        "    if letters1 != letters2:\n",
        "        return False\n",
        "\n",
        "\n",
        "\n",
        "first_ = input('Введите первую строку: ')\n",
        "second_ = input('Введите вторую строку: ')\n",
        "print(check(first_,second_))"
      ],
      "metadata": {
        "id": "7LNW8DuHQJwH"
      },
      "execution_count": null,
      "outputs": []
    },
    {
      "cell_type": "markdown",
      "source": [
        "\n",
        "**Задача 6:**\n",
        "\n",
        "Шифр ​​Цезаря\n",
        "\n",
        "Напишите программу на Python, которая реализует шифр Цезаря, простой метод шифрования, который заменяет каждую букву буквой на фиксированное количество позиций вниз по алфавиту. Программа должна запрашивать у пользователя сообщение и значение сдвига, а затем шифровать и расшифровывать сообщение.\n",
        "\n",
        "Этап 1:\n",
        "\n",
        "Напишите код для реализации данной задачи\n",
        "\n",
        "Этап 2:\n",
        "\n",
        "Оформите код в виде нескольких функций:\n",
        "\n",
        "* Зашифровывает сообщение\n",
        "* Расшифровывает сообщение"
      ],
      "metadata": {
        "id": "-SIWYSq2QKBh"
      }
    },
    {
      "cell_type": "code",
      "source": [
        "def encrypt(message,shift):\n",
        "    new_message = ''\n",
        "    alphabet = 'абвгдеёжзийклмнопрстуфхцчшщъыьэюя'\n",
        "    message = message.replace(' ', '_')\n",
        "    for symbol in range(0, len(message)):\n",
        "        for letter in range(0, len(alphabet)):\n",
        "            if message[symbol] == '_':\n",
        "                elem = message[symbol]\n",
        "                new_message += elem\n",
        "            if message[symbol] == alphabet[letter]:\n",
        "                if letter + shift >= 33:\n",
        "                    elem = alphabet[letter + shift - 32 - 1]\n",
        "                    new_message += elem\n",
        "                if letter + shift < 33:\n",
        "                    elem = alphabet[letter + shift]\n",
        "                    new_message += elem\n",
        "    while \"__\" in new_message:\n",
        "        new_message = new_message.replace('__', '')\n",
        "    new_message = new_message.replace('_', ' ')\n",
        "    return new_message\n",
        "\n",
        "\n",
        "def decrypt(message, shift):\n",
        "    new_message = ''\n",
        "    alphabet = 'абвгдеёжзийклмнопрстуфхцчшщъыьэюя'\n",
        "    message = message.replace(' ', '_')\n",
        "    for symbol in range(0, len(message)):\n",
        "        for letter in range(0, len(alphabet)):\n",
        "            if message[symbol] == '_':\n",
        "                elem = message[symbol]\n",
        "                new_message += elem\n",
        "            if message[symbol] == alphabet[letter]:\n",
        "                if letter - shift < 0:\n",
        "                    elem = alphabet[letter+32-shift+1]\n",
        "                    new_message += elem\n",
        "                if letter - shift >= 0:\n",
        "                    elem = alphabet[letter - shift]\n",
        "                    new_message += elem\n",
        "    while \"__\" in new_message:\n",
        "        new_message = new_message.replace('__', '')\n",
        "    new_message = new_message.replace('_', ' ')\n",
        "    return new_message\n",
        "\n",
        "\n",
        "\n",
        "way = int(input('Вам нужно зашифровать или дешифровать слово? 1) зашифровать, 2) дешифровать. Выберите цифру:'))\n",
        "text = input('Введите ваш текст: ').lower()\n",
        "shi = int(input('Задайте сдвиг вашего шифра:'))\n",
        "if way == 1:\n",
        "    print('Ваш зашифрованный текст:', encrypt(text,shi))\n",
        "if way == 2:\n",
        "    print('Ваш расшифрованный текст:',decrypt(text,shi))"
      ],
      "metadata": {
        "id": "anThYirsQe6N"
      },
      "execution_count": null,
      "outputs": []
    },
    {
      "cell_type": "markdown",
      "source": [
        "**Задача 7**\n",
        "\n",
        "Задача: «Банковская система»\n",
        "\n",
        "Создайте программу Python, которая имитирует базовую банковскую систему. Система должна иметь следующие функции:\n",
        "\n",
        "Требования\n",
        "*   Система должна позволять клиентам создавать счета и хранить их балансы.\n",
        "*   Система должна позволять клиентам вносить и снимать деньги со своих счетов.\n",
        "*   Система должна позволять клиентам проверять свой текущий баланс.\n",
        "*   Система должна позволять клиентам переводить деньги между счетами.\n",
        "*   Система должна отслеживать транзакции (депозиты, снятия и переводы) и иметь возможность печатать детали транзакций.\n",
        "\n",
        "\n",
        "Задачи\n",
        "1. Реализуйте банковскую систему, используя только базовые конструкции Python, такие как def, lists, if, elif и else, без классов или словарей.\n",
        "Определите функции для создания счетов, внесения и снятия денег, получения балансов счетов, перевода денег между счетами, а также создания и печати транзакций.\n",
        "2. Напишите основную функцию, которая демонстрирует использование банковской системы путем создания счетов, внесения и снятия денег и перевода денег между счетами.\n",
        "3. Бонусное задание\n",
        "Реализуйте способ хранения и печати истории транзакций для каждого счета.\n",
        "\n",
        "Ограничения\n",
        "Не используйте классы или словари.\n",
        "Используйте только базовые конструкции Python, такие как def, lists, if, elif и else.\n"
      ],
      "metadata": {
        "id": "avFZRRXrQz9O"
      }
    },
    {
      "cell_type": "code",
      "source": [],
      "metadata": {
        "id": "dWEW10zIRwjs"
      },
      "execution_count": null,
      "outputs": []
    }
  ]
}