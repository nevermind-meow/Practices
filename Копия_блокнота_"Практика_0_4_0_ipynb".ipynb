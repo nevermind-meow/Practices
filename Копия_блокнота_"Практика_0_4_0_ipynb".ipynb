{
  "nbformat": 4,
  "nbformat_minor": 0,
  "metadata": {
    "colab": {
      "provenance": [],
      "include_colab_link": true
    },
    "kernelspec": {
      "name": "python3",
      "display_name": "Python 3"
    },
    "language_info": {
      "name": "python"
    }
  },
  "cells": [
    {
      "cell_type": "markdown",
      "metadata": {
        "id": "view-in-github",
        "colab_type": "text"
      },
      "source": [
        "<a href=\"https://colab.research.google.com/github/nevermind-meow/Practices/blob/main/%D0%9A%D0%BE%D0%BF%D0%B8%D1%8F_%D0%B1%D0%BB%D0%BE%D0%BA%D0%BD%D0%BE%D1%82%D0%B0_%22%D0%9F%D1%80%D0%B0%D0%BA%D1%82%D0%B8%D0%BA%D0%B0_0_4_0_ipynb%22.ipynb\" target=\"_parent\"><img src=\"https://colab.research.google.com/assets/colab-badge.svg\" alt=\"Open In Colab\"/></a>"
      ]
    },
    {
      "cell_type": "markdown",
      "source": [
        "Введите ваше ФИО:"
      ],
      "metadata": {
        "id": "k8oVfdwrMXyc"
      }
    },
    {
      "cell_type": "code",
      "execution_count": null,
      "metadata": {
        "id": "5mcBLsKMI1-5"
      },
      "outputs": [],
      "source": [
        "Шмелёв Александр Олегович"
      ]
    },
    {
      "cell_type": "markdown",
      "source": [
        "***Дисклеймер***\n",
        "\n",
        "В данной практике запрещено использования функций:\n",
        "\n",
        "\n",
        "*   sum()\n",
        "*   min()\n",
        "*   max()\n",
        "*   average()\n",
        "*   reversed()\n",
        "*   sorted()\n",
        "*   готовые функции или библиотеки\n"
      ],
      "metadata": {
        "id": "8HbYUbm3Jw3o"
      }
    },
    {
      "cell_type": "markdown",
      "source": [
        "\n",
        "**Задача 1:**\n",
        "\n",
        "\n",
        "\n",
        "Интернет-магазин предлагает следующие условия скидок:\n",
        "\n",
        "*   Для заказов больше 1000 единиц, клиент получает скидку 5%. Если клиент использует промокод SUPERDISCOUNT, он получает скидку 10% (вместо 5%).\n",
        "*  Для заказов более 5000 единиц, клиент получает скидку 15%, а использование промокода SUPERDISCOUNT увеличивает скидку до 20% (вместо 15%).\n",
        "\n",
        "Этап 1:\n",
        "Ввод:\n",
        "```\n",
        "Введите стоимость единицы товара: 5\n",
        "Введите количество товара: 1001\n",
        "Введите промокод: GiVEMEDISCONT\n",
        "```\n",
        "\n",
        "Вывод:\n",
        "\n",
        "```\n",
        "Ваша скидка: 5%\n",
        "Итоговая сумма: 4754.75\n",
        "```\n",
        "Этап 2:\n",
        "\n",
        "Оформите ваш код в виде функции"
      ],
      "metadata": {
        "id": "HmX0c6YPJSQr"
      }
    },
    {
      "cell_type": "code",
      "source": [
        "def order(amount):\n",
        "  promo = input('Введите промокод:')\n",
        "  if amount <= 1000:\n",
        "    print('Ваша скидка: 0%')\n",
        "    discount = price * amount\n",
        "    return (f'Итоговая сумма: {discount}')\n",
        "\n",
        "  if amount > 5000:\n",
        "    if promo == 'SUPERDISCOUNT':\n",
        "      print('Ваша скидка: 20%')\n",
        "      discount = price * amount * 0.8\n",
        "      return (f'Итоговая сумма: {discount}')\n",
        "    else:\n",
        "      discount = price * amount * 0.85\n",
        "      print('Ваша скидка: 15%')\n",
        "      return (f'Итоговая сумма: {discount}')\n",
        "\n",
        "  if 1000<amount<=5000:\n",
        "    if promo == 'SUPERDISCOUNT':\n",
        "      print('Ваша скидка: 10%')\n",
        "      discount = price * amount * 0.9\n",
        "      return (f'Итоговая сумма: {discount}')\n",
        "    else:\n",
        "      discount = price * amount * 0.95\n",
        "      print('Ваша скидка: 5%')\n",
        "      return (f'Итоговая сумма: {discount}')\n",
        "\n",
        "\n",
        "price = int(input('Введите стоимость единицы товара: '))\n",
        "amount_things = int(input('Введите количевство товара: '))\n",
        "\n",
        "print(order(amount_things))"
      ],
      "metadata": {
        "id": "OAIMIpklMN5D",
        "colab": {
          "base_uri": "https://localhost:8080/"
        },
        "outputId": "b1fcff92-e947-4af9-ede0-3ad0df824a35"
      },
      "execution_count": null,
      "outputs": [
        {
          "output_type": "stream",
          "name": "stdout",
          "text": [
            "Введите стоимость единицы товара:5\n",
            "Введите количевство товара:5421\n",
            "Введите промокод:SUPERDISCOUNT\n",
            "Ваша скидка: 20%\n",
            "Итоговая сумма: 21684.0\n"
          ]
        }
      ]
    },
    {
      "cell_type": "markdown",
      "source": [
        "**Задача 2:**\n",
        "\n",
        "Этап 1:\n",
        "Напишите программу способную отфильтровать список и вывести только положительные элементы\n",
        "\n",
        "\n",
        "Ввод:\n",
        "```\n",
        "-1 5 1 2 -3\n",
        "```\n",
        "\n",
        "Вывод:\n",
        "\n",
        "```\n",
        "5 1 2\n",
        "```\n",
        "\n",
        "Этап 2:\n",
        "\n",
        "Оформите ваш код в виде функции"
      ],
      "metadata": {
        "id": "eeRVWpuLNGJ0"
      }
    },
    {
      "cell_type": "code",
      "source": [
        "def num_filter(numbers):\n",
        "    filtered = [int(element) for element in numbers if int(element) > 0]\n",
        "    return filtered\n",
        "\n",
        "\n",
        "nums = []\n",
        "\n",
        "while n := input(\n",
        "        'Вводите ваши числа одному, которые хотите отфильтровать'\n",
        "        '(если числа закончились, то оставьте строку ввода пустой): '):\n",
        "    if n != '':\n",
        "        nums = nums + [n]\n",
        "\n",
        "print(*num_filter(nums))"
      ],
      "metadata": {
        "id": "Xbi6bL0WOE9N",
        "colab": {
          "base_uri": "https://localhost:8080/"
        },
        "outputId": "f450f419-30d6-4cfb-c4a9-5b665c6a7c33"
      },
      "execution_count": 6,
      "outputs": [
        {
          "output_type": "stream",
          "name": "stdout",
          "text": [
            "Вводите ваши числа одному, которые хотите отфильтровать(если числа закончились, то оставьте строку ввода пустой): -1\n",
            "Вводите ваши числа одному, которые хотите отфильтровать(если числа закончились, то оставьте строку ввода пустой): 5\n",
            "Вводите ваши числа одному, которые хотите отфильтровать(если числа закончились, то оставьте строку ввода пустой): 1\n",
            "Вводите ваши числа одному, которые хотите отфильтровать(если числа закончились, то оставьте строку ввода пустой): 2\n",
            "Вводите ваши числа одному, которые хотите отфильтровать(если числа закончились, то оставьте строку ввода пустой): -3\n",
            "Вводите ваши числа одному, которые хотите отфильтровать(если числа закончились, то оставьте строку ввода пустой): \n",
            "5 1 2\n"
          ]
        }
      ]
    },
    {
      "cell_type": "markdown",
      "source": [
        "**Задача 3:**\n",
        "\n",
        "Этап 1:\n",
        "Напишите программу реализующую Алгоритм Евклида\n",
        "\n",
        "\n",
        "> Алгоритм Евклида – это алгоритм нахождения наибольшего общего делителя (НОД) пары целых чисел.\n",
        "\n",
        "\n",
        "\n",
        "Ввод:\n",
        "```\n",
        "30 18\n",
        "```\n",
        "\n",
        "Вывод:\n",
        "\n",
        "```\n",
        "6\n",
        "```\n",
        "\n",
        "Этап 2:\n",
        "Оформите ваш код в виде функции\n"
      ],
      "metadata": {
        "id": "lV-w6G-POa6F"
      }
    },
    {
      "cell_type": "code",
      "source": [
        "def NOD(number1,number2):\n",
        "    while number2!=0:\n",
        "        ost = number1%number2\n",
        "        number1 = number2\n",
        "        number2 = ost\n",
        "    return number1\n",
        "\n",
        "\n",
        "num1 = int(input('Введите первое число: '))\n",
        "num2 = int(input('Введите второе число: '))\n",
        "\n",
        "print('НОД этих чисел:', NOD(num1,num2))"
      ],
      "metadata": {
        "id": "X2n6fnd91yt7",
        "colab": {
          "base_uri": "https://localhost:8080/"
        },
        "outputId": "347c7ac7-a1f5-472d-8715-83f067a998cf"
      },
      "execution_count": 4,
      "outputs": [
        {
          "output_type": "stream",
          "name": "stdout",
          "text": [
            "Введите первое число: 30\n",
            "Введите второе число: 18\n",
            "НОД этих чисел: 6\n"
          ]
        }
      ]
    },
    {
      "cell_type": "code",
      "source": [
        "\n"
      ],
      "metadata": {
        "id": "43Dl5tIpOZsu"
      },
      "execution_count": null,
      "outputs": []
    },
    {
      "cell_type": "markdown",
      "source": [],
      "metadata": {
        "id": "Aa83ADofPcPZ"
      }
    },
    {
      "cell_type": "markdown",
      "source": [
        "**Задача 4:**\n",
        "\n",
        "Этап 1:\n",
        "Напишите функцию программу, которая принимает строку и возвращает список слов и количество их упомнинаний в предложении\n",
        "\n",
        "Этап 2:\n",
        "Оформите ваш код в виде функции\n",
        "\n",
        "Ввод:\n",
        "```\n",
        "apple banana apple\n",
        "```\n",
        "\n",
        "Вывод:\n",
        "\n",
        "```\n",
        "apple: 2,\n",
        "banana: 1\n",
        "```"
      ],
      "metadata": {
        "id": "WIfPFxpsO0zL"
      }
    },
    {
      "cell_type": "code",
      "source": [
        "def counter(line):\n",
        "    result_list = []\n",
        "    result_dict = {}\n",
        "    for word in line.split():\n",
        "        result_dict[word] = 0\n",
        "\n",
        "    for word in line.split():\n",
        "        for key, value in result_dict.items():\n",
        "            if key == word:\n",
        "                result_dict[key] += 1\n",
        "\n",
        "    for key, value in result_dict.items():\n",
        "        result_list.append(f'{key}:{value}')\n",
        "\n",
        "    print(result_list)\n",
        "    for word in result_list:\n",
        "        print(word)\n",
        "\n",
        "\n",
        "user_line = input('Введите вашу строку: ')\n",
        "print(counter(user_line))"
      ],
      "metadata": {
        "id": "DgsmFeW5Po_x",
        "colab": {
          "base_uri": "https://localhost:8080/"
        },
        "outputId": "0fc34268-7a9e-4bfa-c6bb-c16e3274fee4"
      },
      "execution_count": 3,
      "outputs": [
        {
          "output_type": "stream",
          "name": "stdout",
          "text": [
            "Введите вашу строку: apple banana apple\n",
            "['apple:2', 'banana:1']\n",
            "apple:2\n",
            "banana:1\n",
            "None\n"
          ]
        }
      ]
    },
    {
      "cell_type": "markdown",
      "source": [
        "**Задача 5:**\n",
        "\n",
        "Этап 1:\n",
        "Детектор анаграмм Напишите программу на Python, которая принимает в качестве входных данных две строки и проверяет, являются ли они анаграммами друг друга\n",
        "\n",
        "Этап 2:\n",
        "Оформите ваш код в виде функции\n",
        "\n",
        "Ввод:\n",
        "```\n",
        "listen, silent\n",
        "```\n",
        "\n",
        "Вывод:\n",
        "\n",
        "```\n",
        "True\n",
        "```"
      ],
      "metadata": {
        "id": "5BmIJLUZP9I-"
      }
    },
    {
      "cell_type": "code",
      "source": [
        "def check(line1,line2):\n",
        "    letters1 = {}\n",
        "    letters2 = {}\n",
        "\n",
        "    for letter in line1:\n",
        "        letters1[letter] = 0\n",
        "\n",
        "    for elem in line1:\n",
        "        for key in letters1:\n",
        "            if key == elem:\n",
        "                letters1[elem] += 1\n",
        "\n",
        "    for letter in line2:\n",
        "        letters2[letter] = 0\n",
        "\n",
        "    for elem in line2:\n",
        "        for key in letters2:\n",
        "            if key == elem:\n",
        "                letters2[elem] += 1\n",
        "\n",
        "    if letters1 == letters2:\n",
        "        return True\n",
        "\n",
        "    if letters1 != letters2:\n",
        "        return False\n",
        "\n",
        "\n",
        "first_ = input('Введите первую строку: ')\n",
        "second_ = input('Введите вторую строку: ')\n",
        "print(check(first_,second_))"
      ],
      "metadata": {
        "id": "7LNW8DuHQJwH",
        "outputId": "7c8887e5-59ba-4f84-acac-c8b560af17a7",
        "colab": {
          "base_uri": "https://localhost:8080/"
        }
      },
      "execution_count": null,
      "outputs": [
        {
          "output_type": "stream",
          "name": "stdout",
          "text": [
            "Введите первую строку: listen\n",
            "Введите вторую строку: silent\n",
            "True\n"
          ]
        }
      ]
    },
    {
      "cell_type": "markdown",
      "source": [
        "\n",
        "**Задача 6:**\n",
        "\n",
        "Шифр ​​Цезаря\n",
        "\n",
        "Напишите программу на Python, которая реализует шифр Цезаря, простой метод шифрования, который заменяет каждую букву буквой на фиксированное количество позиций вниз по алфавиту. Программа должна запрашивать у пользователя сообщение и значение сдвига, а затем шифровать и расшифровывать сообщение.\n",
        "\n",
        "Этап 1:\n",
        "\n",
        "Напишите код для реализации данной задачи\n",
        "\n",
        "Этап 2:\n",
        "\n",
        "Оформите код в виде нескольких функций:\n",
        "\n",
        "* Зашифровывает сообщение\n",
        "* Расшифровывает сообщение"
      ],
      "metadata": {
        "id": "-SIWYSq2QKBh"
      }
    },
    {
      "cell_type": "code",
      "source": [
        "def encrypt(message,shift):\n",
        "    new_message = ''\n",
        "    alphabet = 'абвгдеёжзийклмнопрстуфхцчшщъыьэюя'\n",
        "    message = message.replace(' ', '_')\n",
        "    for symbol in range(0, len(message)):\n",
        "        for letter in range(0, len(alphabet)):\n",
        "            if message[symbol] == '_':\n",
        "                elem = message[symbol]\n",
        "                new_message += elem\n",
        "            if message[symbol] == alphabet[letter]:\n",
        "                if letter + shift >= 33:\n",
        "                    elem = alphabet[letter + shift - 32 - 1]\n",
        "                    new_message += elem\n",
        "                if letter + shift < 33:\n",
        "                    elem = alphabet[letter + shift]\n",
        "                    new_message += elem\n",
        "    while \"__\" in new_message:\n",
        "        new_message = new_message.replace('__', '')\n",
        "    new_message = new_message.replace('_', ' ')\n",
        "    return new_message\n",
        "\n",
        "\n",
        "def decrypt(message, shift):\n",
        "    new_message = ''\n",
        "    alphabet = 'абвгдеёжзийклмнопрстуфхцчшщъыьэюя'\n",
        "    message = message.replace(' ', '_')\n",
        "    for symbol in range(0, len(message)):\n",
        "        for letter in range(0, len(alphabet)):\n",
        "            if message[symbol] == '_':\n",
        "                elem = message[symbol]\n",
        "                new_message += elem\n",
        "            if message[symbol] == alphabet[letter]:\n",
        "                if letter - shift < 0:\n",
        "                    elem = alphabet[letter+32-shift+1]\n",
        "                    new_message += elem\n",
        "                if letter - shift >= 0:\n",
        "                    elem = alphabet[letter - shift]\n",
        "                    new_message += elem\n",
        "    while \"__\" in new_message:\n",
        "        new_message = new_message.replace('__', '')\n",
        "    new_message = new_message.replace('_', ' ')\n",
        "    return new_message\n",
        "\n",
        "\n",
        "\n",
        "way = int(input('Вам нужно зашифровать или дешифровать слово? 1) зашифровать, 2) дешифровать. Выберите цифру:'))\n",
        "text = input('Введите ваш текст: ').lower()\n",
        "shi = int(input('Задайте сдвиг вашего шифра:'))\n",
        "if way == 1:\n",
        "    print('Ваш зашифрованный текст: ', encrypt(text,shi))\n",
        "if way == 2:\n",
        "    print('Ваш расшифрованный текст: ',decrypt(text,shi))"
      ],
      "metadata": {
        "id": "anThYirsQe6N",
        "colab": {
          "base_uri": "https://localhost:8080/"
        },
        "outputId": "a7638201-565b-44c7-f4c8-cb71e83d7477"
      },
      "execution_count": 7,
      "outputs": [
        {
          "output_type": "stream",
          "name": "stdout",
          "text": [
            "Вам нужно зашифровать или дешифровать слово? 1) зашифровать, 2) дешифровать. Выберите цифру:1\n",
            "Введите ваш текст: привет я саша\n",
            "Задайте сдвиг вашего шифра:3\n",
            "Ваш зашифрованный текст:  тулезх в фгыг\n"
          ]
        }
      ]
    },
    {
      "cell_type": "markdown",
      "source": [
        "**Задача 7**\n",
        "\n",
        "Задача: «Банковская система»\n",
        "\n",
        "Создайте программу Python, которая имитирует базовую банковскую систему. Система должна иметь следующие функции:\n",
        "\n",
        "Требования\n",
        "*   Система должна позволять клиентам создавать счета и хранить их балансы.\n",
        "*   Система должна позволять клиентам вносить и снимать деньги со своих счетов.\n",
        "*   Система должна позволять клиентам проверять свой текущий баланс.\n",
        "*   Система должна позволять клиентам переводить деньги между счетами.\n",
        "*   Система должна отслеживать транзакции (депозиты, снятия и переводы) и иметь возможность печатать детали транзакций.\n",
        "\n",
        "\n",
        "Задачи\n",
        "1. Реализуйте банковскую систему, используя только базовые конструкции Python, такие как def, lists, if, elif и else, без классов или словарей.\n",
        "Определите функции для создания счетов, внесения и снятия денег, получения балансов счетов, перевода денег между счетами, а также создания и печати транзакций.\n",
        "2. Напишите основную функцию, которая демонстрирует использование банковской системы путем создания счетов, внесения и снятия денег и перевода денег между счетами.\n",
        "3. Бонусное задание\n",
        "Реализуйте способ хранения и печати истории транзакций для каждого счета.\n",
        "\n",
        "Ограничения\n",
        "Не используйте классы или словари.\n",
        "Используйте только базовые конструкции Python, такие как def, lists, if, elif и else.\n"
      ],
      "metadata": {
        "id": "avFZRRXrQz9O"
      }
    },
    {
      "cell_type": "code",
      "source": [
        "def create_account(names, accounts):\n",
        "    name = input('Введите имя пользователя счёта в банке:')\n",
        "    names.append(name)\n",
        "    accounts += [0]\n",
        "    print(f'Вы создали счёт!')\n",
        "    return names\n",
        "\n",
        "\n",
        "def deposit_money(names, accounts):\n",
        "    for num in range(0, len(names)):\n",
        "        print(f'Счёт №{num + 1}: Владелец счёта: {names[num]}; баланс: {accounts[num]}')\n",
        "    number_acc = int(input('Введите номер аккаунте, на который хотите положить средства: '))\n",
        "    amount_money = int(input('Введите сумму, которую хотите положить на счёт: '))\n",
        "    accounts[number_acc - 1] += amount_money\n",
        "    print(f'Вы пополнили аккаунт {names[number_acc - 1]} на сумму {amount_money}. '\n",
        "          f'Текущий баланс: {accounts[number_acc - 1]}')\n",
        "\n",
        "\n",
        "def withdraw_money(names, accounts):\n",
        "    for num in range(0, len(accounts)):\n",
        "        print(f'Владелец счёта: {names[num]}; баланс: {accounts[num]}; Номер счёта: {num + 1}')\n",
        "\n",
        "    number_acc = int(input('Введите номер счёта, с которого хотите снять средства: '))\n",
        "    amount_money = int(input('Введите сумму, которую хотите снять с счёта: '))\n",
        "    while accounts[number_acc - 1] < amount_money or (amount_money <= 0):\n",
        "        print(\n",
        "            'Невозможно снять средств больше чем находится на счёту или снять сумму <0. Повторно введите номер счёта.')\n",
        "        number_acc = int(input('Введите номер аккаунте, с которого хотите снять средства: '))\n",
        "\n",
        "    accounts[number_acc - 1] -= amount_money\n",
        "    print(f'Вы сняли средства аккаунт {names[number_acc - 1]} на сумму {amount_money}. '\n",
        "          f'Текущий баланс: {accounts[number_acc - 1]}')\n",
        "\n",
        "\n",
        "def check_balance(names, accounts):\n",
        "    num = int(input('Введите номер счёта, чей баланс вы хотите узнать: '))\n",
        "    print(f'Владелец счёта: {names[num - 1]}; баланс: {accounts[num - 1]}; Номер счёта: {num}')\n",
        "\n",
        "\n",
        "def remittance_money(names, accounts):\n",
        "    for num in range(0, len(accounts)):\n",
        "        print(f'Владелец счёта: {names[num]}; баланс: {accounts[num]}; Номер счёта: {num + 1}')\n",
        "\n",
        "    acc_from = int(input('Введите номер счёта, с которого хотите совершить перевод: '))\n",
        "    acc_to = int(input('Введите номер счёта, на который поступят средства: '))\n",
        "    amount_remittance = int(input('Введите сумму перевода: '))\n",
        "\n",
        "    while (amount_remittance <= 0) or (accounts[acc_from - 1] < amount_remittance):\n",
        "        print(\"Невозможно перевести средства в связи с неположительным балансом \"\n",
        "              \"или переводом, превышающий баланс счёта, с которого переводят.\"\n",
        "              \"Повторите попытку вновь\")\n",
        "        amount_remittance = int(input('Введите сумму перевода: '))\n",
        "\n",
        "    accounts[acc_to - 1] += amount_remittance\n",
        "    accounts[acc_from - 1] -= amount_remittance\n",
        "    print(f'Вы успешно перевели {amount_remittance} с счёта №{acc_from} на счёт{acc_to}.')\n",
        "    print(f'Баланс средств на счёту №{acc_from}: {accounts[acc_from - 1]}\\n'\n",
        "          f'Баланс средств на счёту №{acc_to}: {accounts[acc_to - 1]}')\n",
        "\n",
        "\n",
        "def operations_list(): #не придумал как сделать\n",
        "    pass\n",
        "\n",
        "\n",
        "banks_users = []\n",
        "bank_accounts = []\n",
        "ways = \"\"\"1) Создать счёт\n",
        "2) Пополнить счёт\n",
        "3) Снять средства с счёта\n",
        "4) Проверить баланс счёта\n",
        "5) Перевести средства на другой счёт\n",
        "6) Повторно вывести операции\n",
        "7) Прекратить взаимодействие с счетами\"\"\"\n",
        "print(ways)\n",
        "user_way = int(input('Введите номер операции: '))\n",
        "while user_way != 7:\n",
        "    if user_way == 1:\n",
        "        create_account(banks_users, bank_accounts)\n",
        "\n",
        "    if user_way == 2:\n",
        "        deposit_money(banks_users, bank_accounts)\n",
        "\n",
        "    if user_way == 3:\n",
        "        withdraw_money(banks_users, bank_accounts)\n",
        "\n",
        "    if user_way == 4:\n",
        "        check_balance(banks_users, bank_accounts)\n",
        "\n",
        "    if user_way == 5:\n",
        "        remittance_money(banks_users, bank_accounts)\n",
        "\n",
        "    if user_way == 6:\n",
        "        print(ways)\n",
        "\n",
        "    user_way = int(input('Введите номер операции: '))\n"
      ],
      "metadata": {
        "id": "dWEW10zIRwjs"
      },
      "execution_count": null,
      "outputs": []
    }
  ]
}