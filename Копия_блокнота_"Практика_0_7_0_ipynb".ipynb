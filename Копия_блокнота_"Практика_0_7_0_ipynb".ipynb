{
  "nbformat": 4,
  "nbformat_minor": 0,
  "metadata": {
    "colab": {
      "provenance": [],
      "include_colab_link": true
    },
    "kernelspec": {
      "name": "python3",
      "display_name": "Python 3"
    },
    "language_info": {
      "name": "python"
    }
  },
  "cells": [
    {
      "cell_type": "markdown",
      "metadata": {
        "id": "view-in-github",
        "colab_type": "text"
      },
      "source": [
        "<a href=\"https://colab.research.google.com/github/nevermind-meow/Practices/blob/main/%D0%9A%D0%BE%D0%BF%D0%B8%D1%8F_%D0%B1%D0%BB%D0%BE%D0%BA%D0%BD%D0%BE%D1%82%D0%B0_%22%D0%9F%D1%80%D0%B0%D0%BA%D1%82%D0%B8%D0%BA%D0%B0_0_7_0_ipynb%22.ipynb\" target=\"_parent\"><img src=\"https://colab.research.google.com/assets/colab-badge.svg\" alt=\"Open In Colab\"/></a>"
      ]
    },
    {
      "cell_type": "markdown",
      "source": [
        "Ссылка на материалы:  [пдф тут](https://drive.google.com/file/d/16Cm2tgrpuDH8eIdxdSYyOsfDPqnJ3byd/view?usp=sharing)"
      ],
      "metadata": {
        "id": "M9IlAZAPBBm9"
      }
    },
    {
      "cell_type": "markdown",
      "source": [
        "ФИО:"
      ],
      "metadata": {
        "id": "ZLVI_WIcuT56"
      }
    },
    {
      "cell_type": "code",
      "source": [
        "Шмелёв Александр Олегович"
      ],
      "metadata": {
        "id": "3AfG_Tal0P2S"
      },
      "execution_count": null,
      "outputs": []
    },
    {
      "cell_type": "markdown",
      "source": [
        "## Задание 1. HTTP-запросы, ответы и погода"
      ],
      "metadata": {
        "id": "Gtm1UjYgDlY7"
      }
    },
    {
      "cell_type": "markdown",
      "source": [
        "Описание:\n",
        "\n",
        "Напишите HTTP-запрос для получения информации о погоде в введенном городе из API.\n",
        "\n",
        "Можно использовать API: https://open-meteo.com/. Используйте метод GET.\n",
        "\n",
        "\n",
        "Ввод\n",
        "```\n",
        "56.50, 60.35\n",
        "```\n",
        "\n",
        "Вывод\n",
        "```\n",
        "Сегодня (1.11) погода 20 ◦С, нет осадков, туман\n",
        "```\n",
        "\n",
        "\n",
        "\n"
      ],
      "metadata": {
        "id": "FtjnLNIKzfMZ"
      }
    },
    {
      "cell_type": "code",
      "source": [
        "import requests\n",
        "from datetime import datetime\n",
        "\n",
        "\n",
        "def send_requests(url):\n",
        "    response = requests.get(url)\n",
        "    status_code = response.status_code\n",
        "\n",
        "    if status_code == 200:\n",
        "        return response.json()\n",
        "    return None\n",
        "\n",
        "\n",
        "def clear_data(data):\n",
        "    # получение текущей даты\n",
        "    current_date = datetime.today().date()\n",
        "    current_date = f'{current_date.day}.{current_date.month}'\n",
        "\n",
        "    # получение температуры\n",
        "    temperature  = data['current']['temperature_2m']\n",
        "    temperature_format = data['current_units']['temperature_2m']\n",
        "\n",
        "    # получение кода температуры\n",
        "    weather_code = data['current']['weather_code']\n",
        "\n",
        "    #определение погоды по коду\n",
        "    if weather_code in [0,1]:\n",
        "        weather = 'нет осадков, ясно'\n",
        "    elif weather_code == 45:\n",
        "        weather = 'нет осадков, туман'\n",
        "    elif weather_code in [61,63,65,71,73,75]:\n",
        "        weather = 'осадки, нет тумана'\n",
        "    else:\n",
        "        weather = 'посмотри сам'\n",
        "\n",
        "    message = f'Сегодня ({current_date}), погода {temperature} {temperature_format}, {weather}'\n",
        "\n",
        "    return message\n",
        "\n",
        "\n",
        "def main():\n",
        "    coordinates = input('Введите ваши координаты').split(', ')\n",
        "    url = f'https://api.open-meteo.com/v1/forecast?latitude={coordinates[0]}&longitude={coordinates[1]}&current=temperature_2m,weather_code&forecast_days=1'\n",
        "    data = send_requests(url)\n",
        "    message = clear_data(data)\n",
        "    print(message)\n",
        "\n",
        "\n",
        "main()"
      ],
      "metadata": {
        "id": "5Mbs40_buVRV",
        "colab": {
          "base_uri": "https://localhost:8080/"
        },
        "outputId": "45102cac-9ec0-4fa1-992d-a7e0e49e7f30"
      },
      "execution_count": null,
      "outputs": [
        {
          "output_type": "stream",
          "name": "stdout",
          "text": [
            "Введите ваши координаты56.50, 60.35\n",
            "Сегодня (31.10), погода 2.0 °C, нет осадков, ясно\n"
          ]
        }
      ]
    },
    {
      "cell_type": "markdown",
      "source": [
        "## Задание 2. HTTP-запросы, ответы и покемоны"
      ],
      "metadata": {
        "id": "FYjU9WmVDoGs"
      }
    },
    {
      "cell_type": "markdown",
      "source": [
        "**Описание:**\n",
        "\n",
        "\n",
        "Создайте код программы, которая будет взаимодействовать с API, со следующим функионалом:\n",
        "\n",
        "1. Используя метод GET, отправьте запрос на endpoint /pokemon, чтобы получить список первых 20 покемонов\n",
        "\n",
        "2. Извлеките имена покемонов из ответа и выведите их списком\n",
        "\n",
        "3. Введите с помощью input() название одного из покемонов\n",
        "\n",
        "\n",
        "```\n",
        "Имя покемона: clefairy\n",
        "```\n",
        "\n",
        "\n",
        "\n",
        "4. Отправьте GET-запрос, чтобы получить полную информацию о выбранном покемоне\n",
        "\n",
        "5. Извлеките и выведите следующие данные о введенном покемоне:\n",
        "\n",
        "     • Имя\n",
        "\n",
        "     • Тип\n",
        "\n",
        "     • Вес\n",
        "\n",
        "     • Рост\n",
        "\n",
        "     • Способности\n",
        "\n",
        "Используйте PokéAPI (https://pokeapi.co/), который предоставляет информацию о покемонах, их характеристиках, типах и другую информацию."
      ],
      "metadata": {
        "id": "oZ1guEbl0PZm"
      }
    },
    {
      "cell_type": "code",
      "source": [
        "#{'count': 1302,\n",
        "# 'next': 'https://pokeapi.co/api/v2/pokemon?offset=20&limit=20',\n",
        "# 'previous': None,\n",
        "# 'results': [{'name': 'bulbasaur','url': 'https://pokeapi.co/api/v2/pokemon/1/'},\n",
        "#  {'name': 'ivysaur', 'url': 'https://pokeapi.co/api/v2/pokemon/2/'},\n",
        "#  {'name': 'venusaur', 'url': 'https://pokeapi.co/api/v2/pokemon/3/'},\n",
        "#  {'name': 'charmander', 'url': 'https://pokeapi.co/api/v2/pokemon/4/'},\n",
        "#  {'name': 'charmeleon', 'url': 'https://pokeapi.co/api/v2/pokemon/5/'},\n",
        "#  {'name': 'charizard', 'url': 'https://pokeapi.co/api/v2/pokemon/6/'},\n",
        "#  {'name': 'squirtle', 'url': 'https://pokeapi.co/api/v2/pokemon/7/'},\n",
        "#  {'name': 'wartortle', 'url': 'https://pokeapi.co/api/v2/pokemon/8/'},\n",
        "#  {'name': 'blastoise', 'url': 'https://pokeapi.co/api/v2/pokemon/9/'},\n",
        "#  {'name': 'caterpie', 'url': 'https://pokeapi.co/api/v2/pokemon/10/'},\n",
        "#  {'name': 'metapod', 'url': 'https://pokeapi.co/api/v2/pokemon/11/'},\n",
        "#  {'name': 'butterfree', 'url': 'https://pokeapi.co/api/v2/pokemon/12/'},\n",
        "#  {'name': 'weedle', 'url': 'https://pokeapi.co/api/v2/pokemon/13/'},\n",
        "#  {'name': 'kakuna', 'url': 'https://pokeapi.co/api/v2/pokemon/14/'},\n",
        "#  {'name': 'beedrill', 'url': 'https://pokeapi.co/api/v2/pokemon/15/'},\n",
        "#  {'name': 'pidgey', 'url': 'https://pokeapi.co/api/v2/pokemon/16/'},\n",
        "#  {'name': 'pidgeotto', 'url': 'https://pokeapi.co/api/v2/pokemon/17/'},\n",
        "#  {'name': 'pidgeot', 'url': 'https://pokeapi.co/api/v2/pokemon/18/'},\n",
        "#  {'name': 'rattata', 'url': 'https://pokeapi.co/api/v2/pokemon/19/'},\n",
        "#  {'name': 'raticate', 'url': 'https://pokeapi.co/api/v2/pokemon/20/'}]}"
      ],
      "metadata": {
        "id": "Qb-5RGOlNw-8"
      },
      "execution_count": null,
      "outputs": []
    },
    {
      "cell_type": "code",
      "source": [
        "import requests\n",
        "\n",
        "\n",
        "def send_requests(url):\n",
        "    url = 'https://pokeapi.co/api/v2/pokemon'\n",
        "    response = requests.get(url)\n",
        "    status_code = response.status_code\n",
        "    if status_code == 200:\n",
        "      return response.json()\n",
        "    return None\n",
        "\n",
        "\n",
        "#имена покемонов\n",
        "def pokemons_data(data):\n",
        "    data = send_requests(url)\n",
        "    info = data['results']\n",
        "    names_pokemons = []\n",
        "    for i in range(0,len(info)):\n",
        "        name = info[i]['name']\n",
        "        names_pokemons.append(name)\n",
        "    return f'Имена покемонов: {names_pokemons}'\n",
        "\n",
        "\n"
      ],
      "metadata": {
        "id": "JkFmivjp25NL"
      },
      "execution_count": null,
      "outputs": []
    },
    {
      "cell_type": "markdown",
      "source": [
        "## Задание 3. HTTP-запросы, ответы и посты"
      ],
      "metadata": {
        "id": "Ci07uZdADue9"
      }
    },
    {
      "cell_type": "markdown",
      "source": [
        "**Описание:**\n",
        "\n",
        "Создайте программу, которая будет взаимодействовать с JSONPlaceholder API, реализуя следующие функции:\n",
        "\n",
        "1. Реализуйте функцию, которая выполняет GET-запрос к https://jsonplaceholder.typicode.com/posts и возвращает список постов в формате JSON\n",
        "\n",
        "2. Реализуйте функцию, котороая получает вводимое ID поста, выполняет GET-запрос по ID и возвращает данные поста в формате JSON\n",
        "\n",
        "3. Реализуйте функцию, которая выполняет обработку JSON из пункта 2 и выводит всю важную информацию в консоль"
      ],
      "metadata": {
        "id": "h194KTer1-B3"
      }
    },
    {
      "cell_type": "code",
      "source": [
        "import requests\n",
        "\n",
        "\n",
        "def send_requests(url):\n",
        "    response = requests.get(url)\n",
        "    status_code = response.status_code\n",
        "    if status_code == 200:\n",
        "        return response.json()\n",
        "    return None\n",
        "\n",
        "\n",
        "def post_id():\n",
        "    url = f'https://jsonplaceholder.typicode.com/posts/{id}'\n",
        "    post = requests.get(url)\n",
        "    status_code = post.status_code\n",
        "    if status_code == 200:\n",
        "        return post.json()\n",
        "    return None\n",
        "\n",
        "\n",
        "def important():\n",
        "    post = post_id()\n",
        "    userId = ''\n",
        "    title = ''\n",
        "    body = ''\n",
        "    for key in post.keys():\n",
        "        if key == 'userId':\n",
        "            title += f'Название поста: {post_id()[key]}'\n",
        "        if key == 'title':\n",
        "            title += f'Название поста: {post_id()[key]}'\n",
        "        if key == 'body':\n",
        "            body += f\"Cодеражание поста: {post_id()[key]}\"\n",
        "    return (f\"{userId},\\n{title}, \\n{body}\")\n",
        "\n",
        "\n",
        "url = 'https://jsonplaceholder.typicode.com/posts'\n",
        "id = int(input('Введите ID поста:'))\n",
        "\n",
        "\n",
        "print(send_requests(url))\n",
        "print(post_id())\n",
        "print(important())"
      ],
      "metadata": {
        "id": "YANQx4o258Zn"
      },
      "execution_count": null,
      "outputs": []
    },
    {
      "cell_type": "markdown",
      "source": [
        "## Задание 4. HTTP-запросы, ответы и работа с постами"
      ],
      "metadata": {
        "id": "rtwepQvJDy9N"
      }
    },
    {
      "cell_type": "markdown",
      "source": [
        "**Описание**\n",
        "\n",
        "Создайте программу, которая будет взаимодействовать с JSONPlaceholder API (из предыдущего задания), реализуя новые функции:\n",
        "\n",
        "1. Реализуйте функцию, которая принимает заголовок, содержимое и ID пользователя (информация вводится с помощью input()), выполняет POST-запрос для создания нового поста и возвращает информацию о созданном посте в формате JSON\n",
        "\n",
        "\n",
        "```\n",
        "Заголовок: Новый пост\n",
        "Содержимое поста: Тут должно находиться содержимое нового поста...\n",
        "ID пользователя: 10\n",
        "```\n",
        "\n",
        "\n",
        "\n",
        "2. Реализуйте функцию, которая принимает ID поста, новый заголовок и новое содержимое, выполняет PUT-запрос и возвращает обновлённый пост в формате JSON\n",
        "\n",
        "3. Реализуйте функцию, которая принимает ID поста, выполняет DELETE-запрос и возвращает статус-код ответа"
      ],
      "metadata": {
        "id": "4MjiaxDM58ta"
      }
    },
    {
      "cell_type": "code",
      "source": [
        "import requests\n",
        "\n",
        "\n",
        "def send_requests(url):\n",
        "    response = requests.get(url)\n",
        "    status_code = response.status_code\n",
        "    if status_code == 200:\n",
        "        return response.json()\n",
        "    return None\n",
        "\n",
        "\n",
        "def post_id():\n",
        "    url = f'https://jsonplaceholder.typicode.com/posts/{id}'\n",
        "    post = requests.get(url)\n",
        "    status_code = post.status_code\n",
        "    if status_code == 200:\n",
        "        return post.json()\n",
        "    return None\n",
        "\n",
        "\n",
        "def important():\n",
        "    post = post_id()\n",
        "    title = ''\n",
        "    body = ''\n",
        "    for key in post.keys():\n",
        "        if key == 'title':\n",
        "            title += f'Название поста: {post_id()[key]}'\n",
        "        if key == 'body':\n",
        "            body += f'Cодержание поста: {post_id()[key]}'\n",
        "    return f\"{title}, \\n{body}\"\n",
        "\n",
        "\n",
        "def new_post():\n",
        "    title = input('Введите заголовок поста: ')\n",
        "    body = input('Введите содержимое: ')\n",
        "    id = int(input('Введите ID пользователя: '))\n",
        "    parameters = {'userId': id,\n",
        "                  'id': highest_id,\n",
        "                  'title': title,\n",
        "                  'body': body}\n",
        "    fresh_post = requests.post(url, parameters)\n",
        "    return f\"Ваш созданный пост: {fresh_post.json()}\"\n",
        "\n",
        "\n",
        "def post_update():\n",
        "    url = f'https://jsonplaceholder.typicode.com/posts/'\n",
        "    post = requests.get(url).json()\n",
        "    id = int(input('Введите ID существующего поста, который хотите обновить: '))\n",
        "    highest_id = len(post)\n",
        "    while id>=highest_id or id<=0:\n",
        "        id = int(input('Ваш ID некорректен. Введите ID существующего поста, который хотите обновить: '))\n",
        "    title_update = input('Введите новое название: ')\n",
        "    body_update = input('Введите новое содержимое поста: ')\n",
        "\n",
        "    url = f'https://jsonplaceholder.typicode.com/posts/{id}'\n",
        "    old_id = requests.get(url).json()['userId']\n",
        "    parameters = {'userId': old_id,\n",
        "                  'id': id,\n",
        "                  'title': title_update,\n",
        "                  'body': body_update}\n",
        "\n",
        "    updated_post = requests.put(url, parameters)\n",
        "    return f\"Ваш обновленный пост: {updated_post.json()}\"\n",
        "\n",
        "\n",
        "def delete_post():\n",
        "    url = f'https://jsonplaceholder.typicode.com/posts/'\n",
        "    post = requests.get(url).json()\n",
        "    id = int(input('Введите ID поста, который хотите удалить: '))\n",
        "    highest_id = len(post)\n",
        "    while id >= highest_id or id <= 0:\n",
        "        id = int(input('Введите ID поста, который хотите удалить: '))\n",
        "    url = f'https://jsonplaceholder.typicode.com/posts/{id}'\n",
        "    post = requests.delete(url)\n",
        "    return post.status_code\n",
        "\n",
        "\n",
        "url = 'https://jsonplaceholder.typicode.com/posts'\n",
        "# id = int(input('Введите ID поста:'))\n",
        "highest_id = 0\n",
        "\n",
        "for key in send_requests(url):\n",
        "    highest_id = key\n",
        "\n",
        "print(new_post()) #1\n",
        "print(post_update()) #2\n",
        "print(delete_post()) #3"
      ],
      "metadata": {
        "id": "jZUIdwq96DNl"
      },
      "execution_count": null,
      "outputs": []
    },
    {
      "cell_type": "markdown",
      "source": [
        "## Задание 5. HTTP-запросы, ответы и пёсики"
      ],
      "metadata": {
        "id": "0UoRc9vOD3XT"
      }
    },
    {
      "cell_type": "markdown",
      "source": [
        "**Описание**\n",
        "\n",
        "Создайте программу, которая будет взаимодействовать с Dog API, которая позволит получать список пород собак, вводить несколько пород и получать их фотогрфии.\n",
        "\n",
        "Этапы:\n",
        "\n",
        "1. Создайте функцию, которая использует метод GET и возвращает список всех пород собак в формате нумерованного списка\n",
        "\n",
        "2. Реализуйте возможность ввода нескольких пород собак через запятую\n",
        "\n",
        "\n",
        "```\n",
        "african, chow, dingo\n",
        "```\n",
        "\n",
        "\n",
        "\n",
        "3. Создание функции, которая реализует запрос, возвращает и выводит изображениия собак, породы которых были введены до этого\n",
        "\n",
        "\n",
        "Используйте Dog API (https://dog.ceo/dog-api/), который предоставляет информацию о породах собак и их изображения.\n"
      ],
      "metadata": {
        "id": "y0EyPsFQ6mSZ"
      }
    },
    {
      "cell_type": "markdown",
      "source": [
        "*Подсказка*\n",
        "\n",
        "\n",
        "\n",
        "```\n",
        "import requests\n",
        "from PIL import Image\n",
        "from IPython.display import display\n",
        "import io\n",
        "\n",
        "url = <____>\n",
        "response = <____>\n",
        "        \n",
        "if response.<______> == <___>:\n",
        "      image_url = response.json()['message']\n",
        "\n",
        "res = requests.<__>(image_url)\n",
        "img = Image.open(io.BytesIO(res.content))\n",
        "display(img)\n",
        "```\n",
        "\n"
      ],
      "metadata": {
        "id": "yrKv5k13AKEP"
      }
    },
    {
      "cell_type": "code",
      "source": [],
      "metadata": {
        "id": "5xti3KRP4Kzp"
      },
      "execution_count": null,
      "outputs": []
    }
  ]
}