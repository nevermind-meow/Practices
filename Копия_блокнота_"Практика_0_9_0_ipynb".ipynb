{
  "nbformat": 4,
  "nbformat_minor": 0,
  "metadata": {
    "colab": {
      "provenance": [],
      "include_colab_link": true
    },
    "kernelspec": {
      "name": "python3",
      "display_name": "Python 3"
    },
    "language_info": {
      "name": "python"
    }
  },
  "cells": [
    {
      "cell_type": "markdown",
      "metadata": {
        "id": "view-in-github",
        "colab_type": "text"
      },
      "source": [
        "<a href=\"https://colab.research.google.com/github/nevermind-meow/Practices/blob/main/%D0%9A%D0%BE%D0%BF%D0%B8%D1%8F_%D0%B1%D0%BB%D0%BE%D0%BA%D0%BD%D0%BE%D1%82%D0%B0_%22%D0%9F%D1%80%D0%B0%D0%BA%D1%82%D0%B8%D0%BA%D0%B0_0_9_0_ipynb%22.ipynb\" target=\"_parent\"><img src=\"https://colab.research.google.com/assets/colab-badge.svg\" alt=\"Open In Colab\"/></a>"
      ]
    },
    {
      "cell_type": "markdown",
      "source": [
        "ФИО"
      ],
      "metadata": {
        "id": "8hJfL9b2l439"
      }
    },
    {
      "cell_type": "code",
      "source": [],
      "metadata": {
        "id": "wRnqvYOkl6EX"
      },
      "execution_count": null,
      "outputs": []
    },
    {
      "cell_type": "markdown",
      "source": [
        "# Дисклеймер"
      ],
      "metadata": {
        "id": "weOtPwPQmgpD"
      }
    },
    {
      "cell_type": "markdown",
      "source": [
        "В данной практике вам необходимо применить все ваши знания по темам:\n",
        "\n",
        "- Функции\n",
        "- Словари\n",
        "- Списки\n",
        "- Множества\n",
        "- Условные конструкции\n",
        "- Запросы\n",
        "\n",
        "и все что было изучено на прошлых практических занятиях\n",
        "\n",
        "В каждом задании кратко описаны функции, которые необходимо реализовать, детали реализации вы должны продумать самостоятельно"
      ],
      "metadata": {
        "id": "LznB3uscmjDa"
      }
    },
    {
      "cell_type": "markdown",
      "source": [
        "# Задание 0"
      ],
      "metadata": {
        "id": "7nSJIqkTvC_C"
      }
    },
    {
      "cell_type": "markdown",
      "source": [
        "Создайте функцию по нахождению уникальных элементов из двух списков\n",
        "\n",
        "\n",
        "\n",
        "```\n",
        "a = [1, 2, 3, 4]\n",
        "b = [3, 4, 5, 6]\n",
        "```\n",
        "\n"
      ],
      "metadata": {
        "id": "exACjTiVvGUe"
      }
    },
    {
      "cell_type": "code",
      "source": [
        "def unique(list1, list2):\n",
        "    unique_elements = []\n",
        "    for element in list1:\n",
        "        if (element not in list2) and (element not in unique_elements):\n",
        "            unique_elements.append(element)\n",
        "    for element in list2:\n",
        "        if (element not in list1) and (element not in unique_elements):\n",
        "            unique_elements.append(element)\n",
        "    return unique_elements\n",
        "\n",
        "\n",
        "list1 = [1, 2, 3, 4]\n",
        "list2 = [3, 4, 5, 6]\n",
        "print(unique(list1, list2))"
      ],
      "metadata": {
        "id": "dQheNSYd4nd2",
        "colab": {
          "base_uri": "https://localhost:8080/"
        },
        "outputId": "846736fa-4355-4d9f-916b-2b715d48d971"
      },
      "execution_count": null,
      "outputs": [
        {
          "output_type": "stream",
          "name": "stdout",
          "text": [
            "[1, 2, 5, 6]\n"
          ]
        }
      ]
    },
    {
      "cell_type": "markdown",
      "source": [
        "# Задание 1"
      ],
      "metadata": {
        "id": "SVWNlBALpCNo"
      }
    },
    {
      "cell_type": "markdown",
      "source": [
        "Симулятор виртуального питомца\n",
        "\n",
        "Цель: создать виртуальный симулятор домашних животных, в котором пользователи смогут заводить питомцев и ухаживать за ними.\n",
        "\n",
        "Требования:\n",
        "\n",
        "- Функция для усыновления питомца (имя, тип, возраст).\n",
        "- Функция для того, чтобы покормить питомца, поиграть с ним или уложить его спать.\n",
        "- Функция для отображения состояния питомца (голод, радость, энергия)."
      ],
      "metadata": {
        "id": "RcKA-VEqpC7f"
      }
    },
    {
      "cell_type": "code",
      "source": [
        "class Pet:\n",
        "    def __init__(self, name, type, age=0):\n",
        "        self.name = name\n",
        "        self.type = type\n",
        "        self.age = age\n",
        "        self.hunger = 50\n",
        "        self.happiness = 50\n",
        "        self.energy = 50\n",
        "\n",
        "    def feed(self):\n",
        "        print(f\"{self.name} ест!\")\n",
        "        self.hunger += 20\n",
        "        self.happiness -= 10\n",
        "        self.energy -= 10\n",
        "        self.check_status()\n",
        "\n",
        "    def play(self):\n",
        "        print(f\"{self.name} играет!\")\n",
        "        self.hunger -= 10\n",
        "        self.happiness += 30\n",
        "        self.energy -= 20\n",
        "        self.check_status()\n",
        "\n",
        "    def sleep(self):\n",
        "        print(f\"{self.name} спит...\")\n",
        "        self.hunger -= 10\n",
        "        self.happiness += 10\n",
        "        self.energy += 40\n",
        "        self.check_status()\n",
        "\n",
        "    def check_status(self):\n",
        "        if self.hunger <= 0 or self.happiness <= 0 or self.energy <= 0:\n",
        "            print(\"Вашему питомцу нужна помощь! Проверьте его состояние.\")\n",
        "\n",
        "        elif self.hunger >= 80 or self.happiness >= 70 or self.energy >= 60:\n",
        "            print(f\"Вашего питомца зовут {self.name}, и {self.name} чувствует себя прекрасно!\")\n",
        "\n",
        "    def display_status(self):\n",
        "        print(f\"Состояние вашего питомца:\")\n",
        "        print(f\"Голод: {self.hunger}\")\n",
        "        print(f\"Радость: {self.happiness}\")\n",
        "        print(f\"Энергия: {self.energy}\\n\")\n",
        "\n",
        "\n",
        "if __name__ == \"__main__\":\n",
        "    pet_name = input(\"Как назвать вашего питомца? \")\n",
        "    pet_type = input(\"Какой тип питомца вы хотите завести? \")\n",
        "    pet_age = int(input(\"Сколько лет вашему питомцу? \"))\n",
        "\n",
        "    my_pet = Pet(pet_name, pet_type, pet_age)\n",
        "\n",
        "    while True:\n",
        "        choice = input(\n",
        "            \"\\nЧто бы вы хотели сделать?\\n1. Покормить питомца\\n2. Поиграть с питомцем\\n3. Уложить питомца спать\\n4. Проверить состояние питомца\\n5. Выйти из игры\\n\")\n",
        "\n",
        "        if choice == '1':\n",
        "            my_pet.feed()\n",
        "        elif choice == '2':\n",
        "            my_pet.play()\n",
        "        elif choice == '3':\n",
        "            my_pet.sleep()\n",
        "        elif choice == '4':\n",
        "            my_pet.display_status()\n",
        "        elif choice == '5':\n",
        "            break\n",
        "        else:\n",
        "            print(\"Некорректный выбор. Попробуйте снова.\")\n",
        "\n",
        "    print(\"До свидания! Берегите своего питомца!\")"
      ],
      "metadata": {
        "id": "hE7mF-HXpJLO"
      },
      "execution_count": null,
      "outputs": []
    },
    {
      "cell_type": "markdown",
      "source": [
        "# Задание 2"
      ],
      "metadata": {
        "id": "qZ7qFQnmssNd"
      }
    },
    {
      "cell_type": "markdown",
      "source": [
        "Рыцарь и дракон\n",
        "\n",
        "Цель: создать небольшую игру, в которой вам необходимо играть за рыцаря и сразиться с драконом\n",
        "\n",
        "Требования:\n",
        "\n",
        "- Создание персонажа (имя, информация о доспехах, оружии, урон, здоровье)\n",
        "- Управление персонажем и мини сюжет\n",
        "- Создание дракона (Имя, информация о здоровье и уроне)\n",
        "- Боевая система (нанесение и получение урона, урон должен быть случайным в заданном диапазоне)\n",
        "- Реализовать бой между драконом и рыцарем"
      ],
      "metadata": {
        "id": "UaccTe7ltNvg"
      }
    },
    {
      "cell_type": "code",
      "source": [],
      "metadata": {
        "id": "LCcxp5Q0srjY"
      },
      "execution_count": null,
      "outputs": []
    },
    {
      "cell_type": "markdown",
      "source": [
        "# Задание 3\n"
      ],
      "metadata": {
        "id": "N8oFiEXol3e2"
      }
    },
    {
      "cell_type": "markdown",
      "source": [
        "Цель - создать менеджера команды Pokémon, который позволит пользователям:\n",
        "\n",
        "- Добавлять покемонов в свою команду. (если такого покемона еще нет в команде)\n",
        "- Удалять покемонов из их команды.\n",
        "- Просматривать подробную информацию обо всех покемонах в команде.\n",
        "- Находить покемона по имени.\n",
        "- Устраивать тренировочный бой между двумя покемонами\n",
        "\n",
        "Для данной задачи используйте: https://pokeapi.co/\n"
      ],
      "metadata": {
        "id": "9p4WQG_Vl7wB"
      }
    },
    {
      "cell_type": "code",
      "source": [],
      "metadata": {
        "id": "pTqN7I7TgN6Z"
      },
      "execution_count": null,
      "outputs": []
    }
  ]
}