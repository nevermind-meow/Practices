{
  "nbformat": 4,
  "nbformat_minor": 0,
  "metadata": {
    "colab": {
      "provenance": [],
      "include_colab_link": true
    },
    "kernelspec": {
      "name": "python3",
      "display_name": "Python 3"
    },
    "language_info": {
      "name": "python"
    }
  },
  "cells": [
    {
      "cell_type": "markdown",
      "metadata": {
        "id": "view-in-github",
        "colab_type": "text"
      },
      "source": [
        "<a href=\"https://colab.research.google.com/github/nevermind-meow/Practices/blob/main/%D0%9A%D0%BE%D0%BF%D0%B8%D1%8F_%D0%B1%D0%BB%D0%BE%D0%BA%D0%BD%D0%BE%D1%82%D0%B0_%22%D0%9F%D1%80%D0%B0%D0%BA%D1%82%D0%B8%D0%BA%D0%B0_0_5_0_ipynb%22.ipynb\" target=\"_parent\"><img src=\"https://colab.research.google.com/assets/colab-badge.svg\" alt=\"Open In Colab\"/></a>"
      ]
    },
    {
      "cell_type": "markdown",
      "source": [
        "ФИО:"
      ],
      "metadata": {
        "id": "Bu5gIJfHNPHw"
      }
    },
    {
      "cell_type": "code",
      "execution_count": null,
      "metadata": {
        "id": "CbHI8c7cM9Eg"
      },
      "outputs": [],
      "source": [
        "Шмелёв Александр Олегович"
      ]
    },
    {
      "cell_type": "markdown",
      "source": [
        "# **Задание 1**"
      ],
      "metadata": {
        "id": "VrNrBpmocGRd"
      }
    },
    {
      "cell_type": "markdown",
      "source": [
        "\n",
        "\n",
        "Дан словарь, содержащий имена и возраст людей, напишите программу выводящую возраст человека по имени\n",
        "\n",
        "Дано:\n",
        "\n",
        "```\n",
        "{\"Alice\": 25, \"Bob\": 30, \"Charlie\": 35}\n",
        "```\n",
        "\n",
        "Вввод:\n",
        "\n",
        "\n",
        "```\n",
        "Alice\n",
        "```\n",
        "\n",
        "Вывод:\n",
        "\n",
        "\n",
        "```\n",
        "Alice 25\n",
        "```\n"
      ],
      "metadata": {
        "id": "XhV1bnm1bR2h"
      }
    },
    {
      "cell_type": "code",
      "source": [
        "people = {\"Alice\": 25, \"Bob\": 30, \"Charlie\": 35}\n",
        "name = input('Введите имя человека: ')\n",
        "for k in people.keys():\n",
        "    if k == name:\n",
        "        print(name,people[k])"
      ],
      "metadata": {
        "id": "PElJj6DvsgjD",
        "colab": {
          "base_uri": "https://localhost:8080/"
        },
        "outputId": "12b78b4a-41bb-4afb-fc44-4b77e356c208"
      },
      "execution_count": null,
      "outputs": [
        {
          "output_type": "stream",
          "name": "stdout",
          "text": [
            "Введите имя человека: Alice\n",
            "Alice 25\n"
          ]
        }
      ]
    },
    {
      "cell_type": "markdown",
      "source": [
        "# **Задание 2**\n"
      ],
      "metadata": {
        "id": "lpjJz-_YcJ-t"
      }
    },
    {
      "cell_type": "markdown",
      "source": [
        "\n",
        "\n",
        "Дан список, состоящий из целых чисел, необходимо написать функцию считающую сумму всех положительных четных чисел списка\n",
        "\n",
        "Ввод:\n",
        "\n",
        "```\n",
        "1, 2, 3, 4, 5, 6, 7, 8, 9\n",
        "```\n",
        "\n",
        "Вывод:\n",
        "\n",
        "\n",
        "```\n",
        "20\n",
        "```\n",
        "\n",
        "***Запрещено:***\n",
        "\n",
        "*   Использование готовых функций для суммирования чисел\n"
      ],
      "metadata": {
        "id": "tMEsAB4rUiWW"
      }
    },
    {
      "cell_type": "code",
      "source": [
        "def positive_sum(l):\n",
        "    s = 0\n",
        "    for elem in l:\n",
        "        if int(elem)%2==0 and int(elem)>0:\n",
        "            s += int(elem)\n",
        "    return s\n",
        "\n",
        "\n",
        "line = input('Введите ваши целые числа через пробел: ').split()\n",
        "print(positive_sum(line))"
      ],
      "metadata": {
        "id": "wDNUFLeqNQS_",
        "colab": {
          "base_uri": "https://localhost:8080/"
        },
        "outputId": "da8e525b-369a-47ab-cb31-78e9ac49d87a"
      },
      "execution_count": null,
      "outputs": [
        {
          "output_type": "stream",
          "name": "stdout",
          "text": [
            "Введите ваши целые числа через пробел: 1 2 3 4 5 6 7 8 9\n",
            "20\n"
          ]
        }
      ]
    },
    {
      "cell_type": "markdown",
      "source": [
        "# **Задание 3**"
      ],
      "metadata": {
        "id": "WT_v-vz1dUZJ"
      }
    },
    {
      "cell_type": "markdown",
      "source": [
        "Дан словарь, содержащий название фрукта и его цвет, выведите список всех желтых фруктов\n",
        "\n",
        "\n",
        "Дано:\n",
        "\n",
        "```\n",
        "fruits_and_colors = {\n",
        "    \"apple\": \"red\",\n",
        "    \"banana\": \"yellow\",\n",
        "    \"mango\": \"yellow\",\n",
        "    \"orange\": \"orange\",\n",
        "    \"lemon\": \"yellow\",\n",
        "    \"grape\": \"purple\"\n",
        "}\n",
        "```\n",
        "\n",
        "Вывод:\n",
        "\n",
        "\n",
        "```\n",
        "Yellow fruits:\n",
        "banana\n",
        "lemon\n",
        "mango\n",
        "```\n",
        "\n"
      ],
      "metadata": {
        "id": "ZI5Xeh2DdXgF"
      }
    },
    {
      "cell_type": "code",
      "source": [
        "fruits_and_colors = {\n",
        "    \"apple\": \"red\",\n",
        "    \"banana\": \"yellow\",\n",
        "    \"mango\": \"yellow\",\n",
        "    \"orange\": \"orange\",\n",
        "    \"lemon\": \"yellow\",\n",
        "    \"grape\": \"purple\"\n",
        "}\n",
        "print(\"yellow fruits: \")\n",
        "for k,v in fruits_and_colors.items():\n",
        "    if v == 'yellow':\n",
        "        print(k)"
      ],
      "metadata": {
        "id": "aNzFTkhKdkTG",
        "colab": {
          "base_uri": "https://localhost:8080/"
        },
        "outputId": "a53ec8bb-910b-4a5f-9be6-4b670323b324"
      },
      "execution_count": null,
      "outputs": [
        {
          "output_type": "stream",
          "name": "stdout",
          "text": [
            "yellow fruits: \n",
            "banana\n",
            "mango\n",
            "lemon\n"
          ]
        }
      ]
    },
    {
      "cell_type": "markdown",
      "source": [
        "# **Задание 4**\n"
      ],
      "metadata": {
        "id": "iHtMGt2icM7w"
      }
    },
    {
      "cell_type": "markdown",
      "source": [
        "\n",
        "\n",
        "Дан словарь, необходимо написать функцию меняющую ключ и значение местами\n",
        "\n",
        "Дано:\n",
        "\n",
        "\n",
        "```\n",
        "{\"a\": 1, \"b\": 2, \"c\": 3}\n",
        "```\n",
        "\n",
        "Вывод:\n",
        "\n",
        "```\n",
        "{1: 'a', 2: 'b', 3: 'c'}\n",
        "```\n",
        "\n"
      ],
      "metadata": {
        "id": "rS3THsnBQ_EB"
      }
    },
    {
      "cell_type": "code",
      "source": [
        "def switch_key_value(old, new):\n",
        "    for k,v in old.items():\n",
        "        new[v]=k\n",
        "    return new\n",
        "\n",
        "\n",
        "old_dict = {\"a\": 1, \"b\": 2, \"c\": 3}\n",
        "new_dict = {}\n",
        "print(switch_key_value(old_dict, new_dict))"
      ],
      "metadata": {
        "id": "MNRusyLDcQ59",
        "colab": {
          "base_uri": "https://localhost:8080/"
        },
        "outputId": "5b35ebf6-dd8b-4594-caf8-c7a9af69ab51"
      },
      "execution_count": 2,
      "outputs": [
        {
          "output_type": "stream",
          "name": "stdout",
          "text": [
            "{1: 'a', 2: 'b', 3: 'c'}\n"
          ]
        }
      ]
    },
    {
      "cell_type": "markdown",
      "source": [
        "# **Задание 5**"
      ],
      "metadata": {
        "id": "x6ff5nd0cUxD"
      }
    },
    {
      "cell_type": "markdown",
      "source": [
        "Дан список слов, неограниченной длинны, сформируйте словарь, где в качестве ключа будет слово, а в качестве значения количество слов\n",
        "\n",
        "**Критерии**\n",
        "\n",
        "\n",
        "*   Словарь необходимо отсортировать по убыванию количества элементов в списке.\n",
        "*   Подсчет элементов должен быть реализован в отдельной функции\n",
        "*   Сортировка пары `ключ:значение` должна быть реализована также в виде отдельной функции\n",
        "\n",
        "\n",
        "\n",
        "\n",
        "Дано:\n",
        "```\n",
        "['apple','banana','orange','apple','apple','banana']\n",
        "```\n",
        "\n",
        "\n",
        "Вывод:\n",
        "```\n",
        "{'apple':3, 'banana': 2, 'orange': 1}\n",
        "```\n",
        "\n",
        "***Запрещено:***\n",
        "\n",
        "*   Использование готовых функций для сортировки\n",
        "*   Использование готовых функций для подсчета элементов\n",
        "\n"
      ],
      "metadata": {
        "id": "ypQNHOG4NQz3"
      }
    },
    {
      "cell_type": "code",
      "source": [
        "def fruit_counter(list_):\n",
        "    result_dict = {}\n",
        "    for elem in list_:\n",
        "        result_dict[elem] = 0\n",
        "\n",
        "    for elem in list_:\n",
        "        if elem in result_dict:\n",
        "            result_dict[elem] += 1\n",
        "\n",
        "    return result_dict\n",
        "\n",
        "\n",
        "def sort_fruits(dict_):\n",
        "    sorted_fruits = list(dict_.items())\n",
        "    for elem1 in range(0, len(sorted_fruits) - 1):\n",
        "        for elem2 in range(1, len(sorted_fruits)):\n",
        "            if sorted_fruits[elem1][1] < sorted_fruits[elem2][1]:\n",
        "                temp_key = sorted_fruits[elem1]\n",
        "                sorted_fruits[elem1] = sorted_fruits[elem2]\n",
        "                sorted_fruits[elem2] = temp_key\n",
        "\n",
        "    return sorted_fruits\n",
        "\n",
        "\n",
        "fruits = ['apple','banana','orange','apple','apple','banana']\n",
        "dict_fruits = fruit_counter(fruits)\n",
        "print(dict(sort_fruits (dict_fruits)))\n"
      ],
      "metadata": {
        "id": "J10PjdVQUbyq",
        "colab": {
          "base_uri": "https://localhost:8080/"
        },
        "outputId": "626243ed-e0bf-423a-cc77-09f92c36dcea"
      },
      "execution_count": null,
      "outputs": [
        {
          "output_type": "stream",
          "name": "stdout",
          "text": [
            "{'apple': 3, 'banana': 2, 'orange': 1}\n"
          ]
        }
      ]
    },
    {
      "cell_type": "markdown",
      "source": [
        "# **Задание 6**"
      ],
      "metadata": {
        "id": "d7fDUr2WcY_G"
      }
    },
    {
      "cell_type": "markdown",
      "source": [
        "Дан словарь, содержащий информацию о людях, необходимо:\n",
        "\n",
        "\n",
        "\n",
        "*   Вывести всех людей старше 30 лет\n",
        "*   Вывести список городов и количество людей из словаря проживающих в них\n",
        "*   Вывести список профессий и список людей для каждой профессии\n",
        "\n",
        "**Критерии**\n",
        "\n",
        "Каждый из пунктов необходимо реализовать в виде функции\n",
        "\n"
      ],
      "metadata": {
        "id": "m11qdVhSWBi7"
      }
    },
    {
      "cell_type": "code",
      "source": [
        "people_info = {\n",
        "    \"Alice\": {\"age\": 25, \"city\": \"New York\", \"occupation\": \"Engineer\"},\n",
        "    \"Bob\": {\"age\": 30, \"city\": \"Los Angeles\", \"occupation\": \"Designer\"},\n",
        "    \"Charlie\": {\"age\": 35, \"city\": \"Chicago\", \"occupation\": \"Teacher\"},\n",
        "    \"Diana\": {\"age\": 28, \"city\": \"Miami\", \"occupation\": \"Doctor\"},\n",
        "    \"Ethan\": {\"age\": 40, \"city\": \"Seattle\", \"occupation\": \"Chef\"},\n",
        "    \"Frank\": {\"age\": 32, \"city\": \"Atlanta\", \"occupation\": \"Lawyer\"},\n",
        "    \"Gabriella\": {\"age\": 29, \"city\": \"San Francisco\", \"occupation\": \"Software Engineer\"},\n",
        "    \"Harrison\": {\"age\": 38, \"city\": \"Denver\", \"occupation\": \"Architect\"},\n",
        "    \"Isabella\": {\"age\": 26, \"city\": \"Washington D.C.\", \"occupation\": \"Journalist\"},\n",
        "    \"Julian\": {\"age\": 42, \"city\": \"Miami\", \"occupation\": \"Musician\"},\n",
        "    \"Kate\": {\"age\": 31, \"city\": \"Philadelphia\", \"occupation\": \"Nurse\"},\n",
        "    \"Lucas\": {\"age\": 36, \"city\": \"Nashville\", \"occupation\": \"Businessman\"},\n",
        "    \"Mia\": {\"age\": 27, \"city\": \"Atlanta\", \"occupation\": \"Artist\"},\n",
        "    \"Natalie\": {\"age\": 39, \"city\": \"Portland\", \"occupation\": \"Writer\"},\n",
        "    \"Oliver\": {\"age\": 44, \"city\": \"Minneapolis\", \"occupation\": \"Professor\"},\n",
        "    \"Penelope\": {\"age\": 33, \"city\": \"San Diego\", \"occupation\": \"Marketing Manager\"},\n",
        "    \"Quincy\": {\"age\": 41, \"city\": \"Nashville\", \"occupation\": \"Singer\"},\n",
        "    \"Rachel\": {\"age\": 34, \"city\": \"Cleveland\", \"occupation\": \"Teacher\"},\n",
        "    \"Sophia\": {\"age\": 29, \"city\": \"Nashville\", \"occupation\": \"Engineer\"},\n",
        "    \"Tessa\": {\"age\": 37, \"city\": \"Miami\", \"occupation\": \"Lawyer\"}\n",
        "}"
      ],
      "metadata": {
        "id": "lSNtB39OWtFl"
      },
      "execution_count": null,
      "outputs": []
    },
    {
      "cell_type": "code",
      "source": [
        "def ages(people_info):\n",
        "    olders = []\n",
        "    for k1,v1 in people_info.items():\n",
        "        if v1['age']>30:\n",
        "            olders.append(k1)\n",
        "    return olders\n",
        "\n",
        "\n",
        "def cities(people_info):\n",
        "    cities_list = []\n",
        "    for k1, v1 in people_info.items():\n",
        "        v2 = v1['city']\n",
        "        cities_list.append(v2)\n",
        "    cities_dict = {}\n",
        "    for city in set(cities_list):\n",
        "        cities_dict[city]=cities_list.count(city)\n",
        "    return cities_dict\n",
        "\n",
        "\n",
        "def works(people_info):\n",
        "    profession_humans = {}\n",
        "    workers = []\n",
        "    for k1,v1 in people_info.items():  #k1 - имя сотрудника\n",
        "        v2 = v1['occupation']          #v2 - род деятельности в исходном словаре\n",
        "        profession_humans[v2]=''       #k2 - род деятельности в новом словаре\n",
        "    for k1, v1 in people_info.items():\n",
        "        v2 = v1['occupation']\n",
        "        for k2 in profession_humans.keys(): #если профессия в новом и старом словаре совпадают, то мы добавляем в новый словарь имя человека (k1), который ею занимается\n",
        "            if k2 == v2:\n",
        "                profession_humans[k2] += f'{k1} '\n",
        "    return profession_humans\n",
        "\n",
        "\n",
        "people_info = {\n",
        "    \"Alice\": {\"age\": 25, \"city\": \"New York\", \"occupation\": \"Engineer\"},\n",
        "    \"Bob\": {\"age\": 30, \"city\": \"Los Angeles\", \"occupation\": \"Designer\"},\n",
        "    \"Charlie\": {\"age\": 35, \"city\": \"Chicago\", \"occupation\": \"Teacher\"},\n",
        "    \"Diana\": {\"age\": 28, \"city\": \"Miami\", \"occupation\": \"Doctor\"},\n",
        "    \"Ethan\": {\"age\": 40, \"city\": \"Seattle\", \"occupation\": \"Chef\"},\n",
        "    \"Frank\": {\"age\": 32, \"city\": \"Atlanta\", \"occupation\": \"Lawyer\"},\n",
        "    \"Gabriella\": {\"age\": 29, \"city\": \"San Francisco\", \"occupation\": \"Software Engineer\"},\n",
        "    \"Harrison\": {\"age\": 38, \"city\": \"Denver\", \"occupation\": \"Architect\"},\n",
        "    \"Isabella\": {\"age\": 26, \"city\": \"Washington D.C.\", \"occupation\": \"Journalist\"},\n",
        "    \"Julian\": {\"age\": 42, \"city\": \"Miami\", \"occupation\": \"Musician\"},\n",
        "    \"Kate\": {\"age\": 31, \"city\": \"Philadelphia\", \"occupation\": \"Nurse\"},\n",
        "    \"Lucas\": {\"age\": 36, \"city\": \"Nashville\", \"occupation\": \"Businessman\"},\n",
        "    \"Mia\": {\"age\": 27, \"city\": \"Atlanta\", \"occupation\": \"Artist\"},\n",
        "    \"Natalie\": {\"age\": 39, \"city\": \"Portland\", \"occupation\": \"Writer\"},\n",
        "    \"Oliver\": {\"age\": 44, \"city\": \"Minneapolis\", \"occupation\": \"Professor\"},\n",
        "    \"Penelope\": {\"age\": 33, \"city\": \"San Diego\", \"occupation\": \"Marketing Manager\"},\n",
        "    \"Quincy\": {\"age\": 41, \"city\": \"Nashville\", \"occupation\": \"Singer\"},\n",
        "    \"Rachel\": {\"age\": 34, \"city\": \"Cleveland\", \"occupation\": \"Teacher\"},\n",
        "    \"Sophia\": {\"age\": 29, \"city\": \"Nashville\", \"occupation\": \"Engineer\"},\n",
        "    \"Tessa\": {\"age\": 37, \"city\": \"Miami\", \"occupation\": \"Lawyer\"}\n",
        "}\n",
        "print('Люди старше 30:', ','.join( ages(people_info) ) )\n",
        "print('Cписок городов и количество людей, проживающих в них:',cities(people_info))\n",
        "print('Cписок профессий и список людей для каждой профессии:',works(people_info))"
      ],
      "metadata": {
        "id": "qcLO5eQwXkNK",
        "outputId": "7e9cef51-0efa-4289-a4ad-91f68af6a456",
        "colab": {
          "base_uri": "https://localhost:8080/"
        }
      },
      "execution_count": null,
      "outputs": [
        {
          "output_type": "stream",
          "name": "stdout",
          "text": [
            "Люди старше 30: Charlie,Ethan,Frank,Harrison,Julian,Kate,Lucas,Natalie,Oliver,Penelope,Quincy,Rachel,Tessa\n",
            "Cписок городов и количество людей, проживающих в них: {'Chicago': 1, 'Nashville': 3, 'San Francisco': 1, 'Minneapolis': 1, 'New York': 1, 'Philadelphia': 1, 'Washington D.C.': 1, 'San Diego': 1, 'Miami': 3, 'Seattle': 1, 'Atlanta': 2, 'Portland': 1, 'Los Angeles': 1, 'Denver': 1, 'Cleveland': 1}\n",
            "Cписок профессий и список людей для каждой профессии: {'Engineer': 'Alice Sophia ', 'Designer': 'Bob ', 'Teacher': 'Charlie Rachel ', 'Doctor': 'Diana ', 'Chef': 'Ethan ', 'Lawyer': 'Frank Tessa ', 'Software Engineer': 'Gabriella ', 'Architect': 'Harrison ', 'Journalist': 'Isabella ', 'Musician': 'Julian ', 'Nurse': 'Kate ', 'Businessman': 'Lucas ', 'Artist': 'Mia ', 'Writer': 'Natalie ', 'Professor': 'Oliver ', 'Marketing Manager': 'Penelope ', 'Singer': 'Quincy '}\n"
          ]
        }
      ]
    },
    {
      "cell_type": "markdown",
      "source": [
        "# **Задание 7**"
      ],
      "metadata": {
        "id": "27IuB2YScezw"
      }
    },
    {
      "cell_type": "markdown",
      "source": [
        "Задание: Разработка системы отзывов о предметах\n",
        "\n",
        "Описание: Создать программу на Python для хранения и управления отзывами о предметах учебного курса. Программа должна позволять пользователям добавлять, просматривать и удалять отзывы, а также вычислять средний балл по заданному предмету.\n",
        "\n",
        "**Функционал:**\n",
        "\n",
        "*   Добавление отзыва и оценки:\n",
        "   *   Пользователь может ввести название предмета, оценку (от 1 до 5) и текст отзыва.\n",
        "   *   Отзывы должны храниться в структуре данных (например, словаре), где ключом будет название предмета, а значением - список отзывов (каждый отзыв может хранить оценку и комментарий).\n",
        "*   Просмотр отзывов и оценок:\n",
        "   *   Пользователь может запросить отзывы для указанного предмета.\n",
        "   *   Если для указанного предмета есть отзывы, программа должна отобразить список всех отзывов и соответствующих оценок.\n",
        "*   Удаление отзыва:\n",
        "   *   Пользователь может удалить отзыв по индексу. Необходимо заранее уведомить пользователя о том, какие отзывы доступны для удаления.\n",
        "   *   Программа должна обработать ситуацию, когда индекс введен неправильно.\n",
        "*   Вычисление среднего балла по предмету:\n",
        "   *   Пользователь может ввести название предмета, и программа должна вычислить и вывести средний балл по всем отзывам для этого предмета.\n",
        "   *   Если отзывов нет, программа должна сообщить об этом.\n",
        "\n",
        "\n",
        "**Критерии:**\n",
        "\n",
        "*   Код должен быть оформлен в виде функций\n",
        "*   Необходимо обрабатывать неправильный ввод пользователя\n",
        "*   Должны быть комментарии к функциям\n",
        "*   Присутсвует весь дополнительный функционал\n",
        "\n",
        "\n",
        "\n",
        "**Опционально:**\n",
        "\n",
        "Предлагаю вам добавить свои критерии оценки или вопросы, на которые должен ответить студент, чтобы оценить пару\n",
        "\n",
        "\n"
      ],
      "metadata": {
        "id": "Fd95-S9cYhct"
      }
    },
    {
      "cell_type": "code",
      "source": [
        "def add_review(reviews_dict, marks_dict):\n",
        "    subject = input('Введите название предмета: ')\n",
        "    mark = int(input('Оцените предмет: '))\n",
        "    review = input('Введите отзыв: ')\n",
        "    if subject in reviews_dict.keys():\n",
        "        reviews_dict[subject] += [review]\n",
        "    else:\n",
        "        reviews_dict[subject] = [review]\n",
        "\n",
        "    if subject in marks_dict.keys():\n",
        "        marks_dict[subject] += [mark]\n",
        "    else:\n",
        "        marks_dict[subject] = [mark]\n",
        "\n",
        "    print(reviews_dict)\n",
        "    print(marks_dict)\n",
        "\n",
        "\n",
        "def view_review(reviews_dict, marks_dict):\n",
        "    subject = input('Введите название предмета: ')\n",
        "    if subject in reviews_dict.keys():\n",
        "        if reviews_dict[subject]:\n",
        "            reviews = reviews_dict[subject]\n",
        "            marks = marks_dict[subject]\n",
        "            for number in range(0, len(reviews)):\n",
        "                print(f'Отзыв №{number+1} по предмету {subject}: {reviews[number]}')\n",
        "                print(f'Оценка №{number+1} по предмету {subject}: {marks[number]}')\n",
        "        else:\n",
        "            print('Существующие отзывы на предмет уже были удалены. Поэтому невозможно посмотреть отзывы.')\n",
        "    else:\n",
        "        print('Отзывов по данному предмету не найдено!')\n",
        "\n",
        "\n",
        "def delete_review(reviews_dict, marks_dict):\n",
        "    subject = input('Введите название предмета: ')\n",
        "    if subject in reviews_dict.keys():\n",
        "        if reviews_dict[subject]:\n",
        "            allowed = []\n",
        "            for i in range(0, len(reviews_dict[subject])):\n",
        "                allowed.append(i+1)\n",
        "            print(f'Доступные для удаления отзывы с номерами: {allowed}')\n",
        "            remove = (int(input('Введите номер отзыва и оценки, которые вы хотите удалить: ')))\n",
        "            del reviews_dict[subject][remove-1]\n",
        "            del marks_dict[subject][remove-1]\n",
        "        else:\n",
        "            print('Существующие отзывы на предмет уже были удалены. Поэтому невозможно удалить отзыв. ')\n",
        "    else:\n",
        "        print('Отзывов по данному предмету не найдено!')\n",
        "\n",
        "\n",
        "def average_mark(reviews_dict, marks_dict):\n",
        "    subject = input('Введите название предмета: ')\n",
        "    if subject in marks_dict.keys():\n",
        "        if marks_dict[subject]:\n",
        "            marks = marks_dict[subject]\n",
        "            avg = sum(marks)/len(marks)\n",
        "            print(f'Средняя оценка по предмету {subject} = {avg}')\n",
        "        else:\n",
        "            print('Существующие отзывы на предмет уже были удалены. Поэтому средний балл отсутствует.')\n",
        "    else:\n",
        "        print('Отзывов по данному предмету не найдено!')\n",
        "\n",
        "\n",
        "students_reviews = dict()\n",
        "students_marks = dict()\n",
        "print('Приветствую в системе отзывов о предметах. Воспользуйтесь нашим предложенным функционалом, выбрав цифру.')\n",
        "way = int(input('1) Добавление отзыва и оценки:\\n'\n",
        "                '2) Просмотреть отзывы и оценки:\\n'\n",
        "                '3) Удалить отзыв и оценку:\\n'\n",
        "                '4) Средний балл отзывов по предмету\\n'\n",
        "                '5) Прекратить взаимодействие: '))\n",
        "while way in [1,2,3,4,5]:\n",
        "    if way == 1:\n",
        "        add_review(students_reviews, students_marks)\n",
        "        way = int(input('1) Добавление отзыва и оценки:\\n'\n",
        "                        '2) Просмотреть отзывы и оценки:\\n'\n",
        "                        '3) Удалить отзыв и оценку:\\n'\n",
        "                        '4) Средний балл отзывов по предмету\\n'\n",
        "                        '5) Прекратить взаимодействие: '))\n",
        "\n",
        "    if way == 2:\n",
        "        view_review(students_reviews, students_marks)\n",
        "        way = int(input('1) Добавление отзыва и оценки:\\n'\n",
        "                        '2) Просмотреть отзывы и оценки:\\n'\n",
        "                        '3) Удалить отзыв и оценку:\\n'\n",
        "                        '4) Средний балл отзывов по предмету\\n'\n",
        "                        '5) Прекратить взаимодействие: '))\n",
        "\n",
        "    if way == 3:\n",
        "        delete_review(students_reviews, students_marks)\n",
        "        way = int(input('1) Добавление отзыва и оценки:\\n'\n",
        "                        '2) Просмотреть отзывы и оценки:\\n'\n",
        "                        '3) Удалить отзыв и оценку:\\n'\n",
        "                        '4) Средний балл отзывов по предмету\\n'\n",
        "                        '5) Прекратить взаимодействие: '))\n",
        "\n",
        "    if way == 4:\n",
        "        average_mark(students_reviews, students_marks)\n",
        "        way = int(input('1) Добавление отзыва и оценки:\\n'\n",
        "                        '2) Просмотреть отзывы и оценки:\\n'\n",
        "                        '3) Удалить отзыв и оценку:\\n'\n",
        "                        '4) Средний балл отзывов по предмету\\n'\n",
        "                        '5) Прекратить взаимодействие: '))\n",
        "\n",
        "    if way == 5:\n",
        "        print('Спасибо за использование нашего сервиса! До свидания!')\n",
        "        exit()"
      ],
      "metadata": {
        "id": "kzucJrCUa0o7"
      },
      "execution_count": null,
      "outputs": []
    }
  ]
}